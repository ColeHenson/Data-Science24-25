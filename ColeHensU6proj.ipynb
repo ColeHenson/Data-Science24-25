{
  "cells": [
    {
      "cell_type": "markdown",
      "metadata": {
        "id": "view-in-github",
        "colab_type": "text"
      },
      "source": [
        "<a href=\"https://colab.research.google.com/github/ColeHenson/Data-Science24-25/blob/main/ColeHensU6proj.ipynb\" target=\"_parent\"><img src=\"https://colab.research.google.com/assets/colab-badge.svg\" alt=\"Open In Colab\"/></a>"
      ]
    },
    {
      "cell_type": "markdown",
      "metadata": {
        "id": "hIWO5hU4NeAg"
      },
      "source": [
        "# Homlessness"
      ]
    },
    {
      "cell_type": "markdown",
      "metadata": {
        "id": "iG3eGgAnPT6b"
      },
      "source": [
        "# Data"
      ]
    },
    {
      "cell_type": "markdown",
      "metadata": {
        "id": "YJPcaPErSNjc"
      },
      "source": [
        "2024 was a bad year for homelessness rates in the United States. According to the department of Housing and Urban Developement, the rates of people experiencing homelessness increased by 18.1 percent in 2024. Homelessness continues to be a neglected issue in the US an it is key to understand the causes of homelessness to look for solutions. I found the data I used for the project from a wide variety of goverment sources including the BLS, the federal reserve, and the HUD. I chose to collect data on variables based on my prior understanding of causes of homelessness and also what was available and quantifyable. For example, I collected binary data on what states allow rent control but decided not to use it because I could not account for the extent to which rent control was implemented on a municiple level."
      ]
    },
    {
      "cell_type": "code",
      "execution_count": 79,
      "metadata": {
        "colab": {
          "base_uri": "https://localhost:8080/"
        },
        "collapsed": true,
        "id": "7jNilVxOpVMV",
        "outputId": "92f234fa-c3d7-4326-f909-ff1b1a22f0bd"
      },
      "outputs": [
        {
          "output_type": "stream",
          "name": "stdout",
          "text": [
            "Collecting git+https://github.com/pydata/xarray.git\n",
            "  Cloning https://github.com/pydata/xarray.git to /tmp/pip-req-build-5t26c281\n",
            "  Running command git clone --filter=blob:none --quiet https://github.com/pydata/xarray.git /tmp/pip-req-build-5t26c281\n",
            "  Resolved https://github.com/pydata/xarray.git to commit c25215299c02cd36781cf3aa38e8583d1fe14849\n",
            "  Installing build dependencies ... \u001b[?25l\u001b[?25hdone\n",
            "  Getting requirements to build wheel ... \u001b[?25l\u001b[?25hdone\n",
            "  Preparing metadata (pyproject.toml) ... \u001b[?25l\u001b[?25hdone\n",
            "Requirement already satisfied: numpy>=1.24 in /usr/local/lib/python3.11/dist-packages (from xarray==2025.1.3.dev1+gc2521529) (1.26.4)\n",
            "Requirement already satisfied: packaging>=23.2 in /usr/local/lib/python3.11/dist-packages (from xarray==2025.1.3.dev1+gc2521529) (24.2)\n",
            "Requirement already satisfied: pandas>=2.1 in /usr/local/lib/python3.11/dist-packages (from xarray==2025.1.3.dev1+gc2521529) (2.2.2)\n",
            "Requirement already satisfied: python-dateutil>=2.8.2 in /usr/local/lib/python3.11/dist-packages (from pandas>=2.1->xarray==2025.1.3.dev1+gc2521529) (2.8.2)\n",
            "Requirement already satisfied: pytz>=2020.1 in /usr/local/lib/python3.11/dist-packages (from pandas>=2.1->xarray==2025.1.3.dev1+gc2521529) (2024.2)\n",
            "Requirement already satisfied: tzdata>=2022.7 in /usr/local/lib/python3.11/dist-packages (from pandas>=2.1->xarray==2025.1.3.dev1+gc2521529) (2025.1)\n",
            "Requirement already satisfied: six>=1.5 in /usr/local/lib/python3.11/dist-packages (from python-dateutil>=2.8.2->pandas>=2.1->xarray==2025.1.3.dev1+gc2521529) (1.17.0)\n",
            "Requirement already satisfied: bambi in /usr/local/lib/python3.11/dist-packages (0.15.0)\n",
            "Requirement already satisfied: arviz>=0.12.0 in /usr/local/lib/python3.11/dist-packages (from bambi) (0.20.0)\n",
            "Requirement already satisfied: formulae>=0.5.3 in /usr/local/lib/python3.11/dist-packages (from bambi) (0.5.4)\n",
            "Requirement already satisfied: graphviz in /usr/local/lib/python3.11/dist-packages (from bambi) (0.20.3)\n",
            "Requirement already satisfied: pandas>=1.0.0 in /usr/local/lib/python3.11/dist-packages (from bambi) (2.2.2)\n",
            "Requirement already satisfied: pymc>=5.18.0 in /usr/local/lib/python3.11/dist-packages (from bambi) (5.19.1)\n",
            "Requirement already satisfied: setuptools>=60.0.0 in /usr/local/lib/python3.11/dist-packages (from arviz>=0.12.0->bambi) (75.1.0)\n",
            "Requirement already satisfied: matplotlib>=3.5 in /usr/local/lib/python3.11/dist-packages (from arviz>=0.12.0->bambi) (3.10.0)\n",
            "Requirement already satisfied: numpy>=1.23.0 in /usr/local/lib/python3.11/dist-packages (from arviz>=0.12.0->bambi) (1.26.4)\n",
            "Requirement already satisfied: scipy>=1.9.0 in /usr/local/lib/python3.11/dist-packages (from arviz>=0.12.0->bambi) (1.13.1)\n",
            "Requirement already satisfied: packaging in /usr/local/lib/python3.11/dist-packages (from arviz>=0.12.0->bambi) (24.2)\n",
            "Requirement already satisfied: xarray>=2022.6.0 in /usr/local/lib/python3.11/dist-packages (from arviz>=0.12.0->bambi) (2025.1.3.dev1+gc2521529)\n",
            "Requirement already satisfied: h5netcdf>=1.0.2 in /usr/local/lib/python3.11/dist-packages (from arviz>=0.12.0->bambi) (1.5.0)\n",
            "Requirement already satisfied: typing-extensions>=4.1.0 in /usr/local/lib/python3.11/dist-packages (from arviz>=0.12.0->bambi) (4.12.2)\n",
            "Requirement already satisfied: xarray-einstats>=0.3 in /usr/local/lib/python3.11/dist-packages (from arviz>=0.12.0->bambi) (0.8.0)\n",
            "Requirement already satisfied: python-dateutil>=2.8.2 in /usr/local/lib/python3.11/dist-packages (from pandas>=1.0.0->bambi) (2.8.2)\n",
            "Requirement already satisfied: pytz>=2020.1 in /usr/local/lib/python3.11/dist-packages (from pandas>=1.0.0->bambi) (2024.2)\n",
            "Requirement already satisfied: tzdata>=2022.7 in /usr/local/lib/python3.11/dist-packages (from pandas>=1.0.0->bambi) (2025.1)\n",
            "Requirement already satisfied: cachetools>=4.2.1 in /usr/local/lib/python3.11/dist-packages (from pymc>=5.18.0->bambi) (5.5.1)\n",
            "Requirement already satisfied: cloudpickle in /usr/local/lib/python3.11/dist-packages (from pymc>=5.18.0->bambi) (3.1.1)\n",
            "Requirement already satisfied: pytensor<2.27,>=2.26.1 in /usr/local/lib/python3.11/dist-packages (from pymc>=5.18.0->bambi) (2.26.4)\n",
            "Requirement already satisfied: rich>=13.7.1 in /usr/local/lib/python3.11/dist-packages (from pymc>=5.18.0->bambi) (13.9.4)\n",
            "Requirement already satisfied: threadpoolctl<4.0.0,>=3.1.0 in /usr/local/lib/python3.11/dist-packages (from pymc>=5.18.0->bambi) (3.5.0)\n",
            "Requirement already satisfied: h5py in /usr/local/lib/python3.11/dist-packages (from h5netcdf>=1.0.2->arviz>=0.12.0->bambi) (3.12.1)\n",
            "Requirement already satisfied: contourpy>=1.0.1 in /usr/local/lib/python3.11/dist-packages (from matplotlib>=3.5->arviz>=0.12.0->bambi) (1.3.1)\n",
            "Requirement already satisfied: cycler>=0.10 in /usr/local/lib/python3.11/dist-packages (from matplotlib>=3.5->arviz>=0.12.0->bambi) (0.12.1)\n",
            "Requirement already satisfied: fonttools>=4.22.0 in /usr/local/lib/python3.11/dist-packages (from matplotlib>=3.5->arviz>=0.12.0->bambi) (4.55.7)\n",
            "Requirement already satisfied: kiwisolver>=1.3.1 in /usr/local/lib/python3.11/dist-packages (from matplotlib>=3.5->arviz>=0.12.0->bambi) (1.4.8)\n",
            "Requirement already satisfied: pillow>=8 in /usr/local/lib/python3.11/dist-packages (from matplotlib>=3.5->arviz>=0.12.0->bambi) (11.1.0)\n",
            "Requirement already satisfied: pyparsing>=2.3.1 in /usr/local/lib/python3.11/dist-packages (from matplotlib>=3.5->arviz>=0.12.0->bambi) (3.2.1)\n",
            "Requirement already satisfied: filelock>=3.15 in /usr/local/lib/python3.11/dist-packages (from pytensor<2.27,>=2.26.1->pymc>=5.18.0->bambi) (3.17.0)\n",
            "Requirement already satisfied: etuples in /usr/local/lib/python3.11/dist-packages (from pytensor<2.27,>=2.26.1->pymc>=5.18.0->bambi) (0.3.9)\n",
            "Requirement already satisfied: logical-unification in /usr/local/lib/python3.11/dist-packages (from pytensor<2.27,>=2.26.1->pymc>=5.18.0->bambi) (0.4.6)\n",
            "Requirement already satisfied: miniKanren in /usr/local/lib/python3.11/dist-packages (from pytensor<2.27,>=2.26.1->pymc>=5.18.0->bambi) (1.0.3)\n",
            "Requirement already satisfied: cons in /usr/local/lib/python3.11/dist-packages (from pytensor<2.27,>=2.26.1->pymc>=5.18.0->bambi) (0.4.6)\n",
            "Requirement already satisfied: six>=1.5 in /usr/local/lib/python3.11/dist-packages (from python-dateutil>=2.8.2->pandas>=1.0.0->bambi) (1.17.0)\n",
            "Requirement already satisfied: markdown-it-py>=2.2.0 in /usr/local/lib/python3.11/dist-packages (from rich>=13.7.1->pymc>=5.18.0->bambi) (3.0.0)\n",
            "Requirement already satisfied: pygments<3.0.0,>=2.13.0 in /usr/local/lib/python3.11/dist-packages (from rich>=13.7.1->pymc>=5.18.0->bambi) (2.18.0)\n",
            "Requirement already satisfied: mdurl~=0.1 in /usr/local/lib/python3.11/dist-packages (from markdown-it-py>=2.2.0->rich>=13.7.1->pymc>=5.18.0->bambi) (0.1.2)\n",
            "Requirement already satisfied: toolz in /usr/local/lib/python3.11/dist-packages (from logical-unification->pytensor<2.27,>=2.26.1->pymc>=5.18.0->bambi) (0.12.1)\n",
            "Requirement already satisfied: multipledispatch in /usr/local/lib/python3.11/dist-packages (from logical-unification->pytensor<2.27,>=2.26.1->pymc>=5.18.0->bambi) (1.0.0)\n"
          ]
        }
      ],
      "source": [
        "#import statements\n",
        "import numpy as np\n",
        "import pandas as pd\n",
        "import arviz as az\n",
        "import pymc as pm\n",
        "import matplotlib.pyplot as plt\n",
        "!pip install git+https://github.com/pydata/xarray.git\n",
        "import xarray as xr\n",
        "!pip install bambi\n",
        "import bambi as bmb"
      ]
    },
    {
      "cell_type": "code",
      "execution_count": 80,
      "metadata": {
        "colab": {
          "base_uri": "https://localhost:8080/",
          "height": 423
        },
        "id": "8nDfHrbmrgw5",
        "outputId": "95b83302-c2ae-49aa-bcd0-1e12746858f0"
      },
      "outputs": [
        {
          "output_type": "execute_result",
          "data": {
            "text/plain": [
              "     Year          State  Debt  Unemployment  homelessness  RentCost  \\\n",
              "0    2024        Alabama  1.40           3.1      6.467692       788   \n",
              "1    2024         Alaska  1.50           4.6     35.641923      1153   \n",
              "2    2024        Arizona  1.84           3.7     19.158042      1064   \n",
              "3    2024       Arkansas  1.32           3.3      8.504654       696   \n",
              "4    2024     California  1.60           5.4     46.554113      1488   \n",
              "..    ...            ...   ...           ...           ...       ...   \n",
              "199  2021       Virginia  1.84           2.6      6.947180       842   \n",
              "200  2021     Washington  1.50           3.9     16.054427       850   \n",
              "201  2021  West Virginia  1.32           3.8      6.195439       599   \n",
              "202  2021      Wisconsin  1.24           2.9      7.351799       637   \n",
              "203  2021        Wyoming  1.60           3.3      6.944444       677   \n",
              "\n",
              "     Population    COLI  \n",
              "0       4893186   88.10  \n",
              "1        716025  126.60  \n",
              "2       7174064  105.80  \n",
              "3       3011873   90.60  \n",
              "4      39346023  137.60  \n",
              "..          ...     ...  \n",
              "199     8365985  104.86  \n",
              "200     7169985  123.78  \n",
              "201     1836835  100.68  \n",
              "202     5763215   97.51  \n",
              "203      583200   93.11  \n",
              "\n",
              "[201 rows x 8 columns]"
            ],
            "text/html": [
              "\n",
              "  <div id=\"df-bc74e53a-6099-44b5-81a8-1abec7378a65\" class=\"colab-df-container\">\n",
              "    <div>\n",
              "<style scoped>\n",
              "    .dataframe tbody tr th:only-of-type {\n",
              "        vertical-align: middle;\n",
              "    }\n",
              "\n",
              "    .dataframe tbody tr th {\n",
              "        vertical-align: top;\n",
              "    }\n",
              "\n",
              "    .dataframe thead th {\n",
              "        text-align: right;\n",
              "    }\n",
              "</style>\n",
              "<table border=\"1\" class=\"dataframe\">\n",
              "  <thead>\n",
              "    <tr style=\"text-align: right;\">\n",
              "      <th></th>\n",
              "      <th>Year</th>\n",
              "      <th>State</th>\n",
              "      <th>Debt</th>\n",
              "      <th>Unemployment</th>\n",
              "      <th>homelessness</th>\n",
              "      <th>RentCost</th>\n",
              "      <th>Population</th>\n",
              "      <th>COLI</th>\n",
              "    </tr>\n",
              "  </thead>\n",
              "  <tbody>\n",
              "    <tr>\n",
              "      <th>0</th>\n",
              "      <td>2024</td>\n",
              "      <td>Alabama</td>\n",
              "      <td>1.40</td>\n",
              "      <td>3.1</td>\n",
              "      <td>6.467692</td>\n",
              "      <td>788</td>\n",
              "      <td>4893186</td>\n",
              "      <td>88.10</td>\n",
              "    </tr>\n",
              "    <tr>\n",
              "      <th>1</th>\n",
              "      <td>2024</td>\n",
              "      <td>Alaska</td>\n",
              "      <td>1.50</td>\n",
              "      <td>4.6</td>\n",
              "      <td>35.641923</td>\n",
              "      <td>1153</td>\n",
              "      <td>716025</td>\n",
              "      <td>126.60</td>\n",
              "    </tr>\n",
              "    <tr>\n",
              "      <th>2</th>\n",
              "      <td>2024</td>\n",
              "      <td>Arizona</td>\n",
              "      <td>1.84</td>\n",
              "      <td>3.7</td>\n",
              "      <td>19.158042</td>\n",
              "      <td>1064</td>\n",
              "      <td>7174064</td>\n",
              "      <td>105.80</td>\n",
              "    </tr>\n",
              "    <tr>\n",
              "      <th>3</th>\n",
              "      <td>2024</td>\n",
              "      <td>Arkansas</td>\n",
              "      <td>1.32</td>\n",
              "      <td>3.3</td>\n",
              "      <td>8.504654</td>\n",
              "      <td>696</td>\n",
              "      <td>3011873</td>\n",
              "      <td>90.60</td>\n",
              "    </tr>\n",
              "    <tr>\n",
              "      <th>4</th>\n",
              "      <td>2024</td>\n",
              "      <td>California</td>\n",
              "      <td>1.60</td>\n",
              "      <td>5.4</td>\n",
              "      <td>46.554113</td>\n",
              "      <td>1488</td>\n",
              "      <td>39346023</td>\n",
              "      <td>137.60</td>\n",
              "    </tr>\n",
              "    <tr>\n",
              "      <th>...</th>\n",
              "      <td>...</td>\n",
              "      <td>...</td>\n",
              "      <td>...</td>\n",
              "      <td>...</td>\n",
              "      <td>...</td>\n",
              "      <td>...</td>\n",
              "      <td>...</td>\n",
              "      <td>...</td>\n",
              "    </tr>\n",
              "    <tr>\n",
              "      <th>199</th>\n",
              "      <td>2021</td>\n",
              "      <td>Virginia</td>\n",
              "      <td>1.84</td>\n",
              "      <td>2.6</td>\n",
              "      <td>6.947180</td>\n",
              "      <td>842</td>\n",
              "      <td>8365985</td>\n",
              "      <td>104.86</td>\n",
              "    </tr>\n",
              "    <tr>\n",
              "      <th>200</th>\n",
              "      <td>2021</td>\n",
              "      <td>Washington</td>\n",
              "      <td>1.50</td>\n",
              "      <td>3.9</td>\n",
              "      <td>16.054427</td>\n",
              "      <td>850</td>\n",
              "      <td>7169985</td>\n",
              "      <td>123.78</td>\n",
              "    </tr>\n",
              "    <tr>\n",
              "      <th>201</th>\n",
              "      <td>2021</td>\n",
              "      <td>West Virginia</td>\n",
              "      <td>1.32</td>\n",
              "      <td>3.8</td>\n",
              "      <td>6.195439</td>\n",
              "      <td>599</td>\n",
              "      <td>1836835</td>\n",
              "      <td>100.68</td>\n",
              "    </tr>\n",
              "    <tr>\n",
              "      <th>202</th>\n",
              "      <td>2021</td>\n",
              "      <td>Wisconsin</td>\n",
              "      <td>1.24</td>\n",
              "      <td>2.9</td>\n",
              "      <td>7.351799</td>\n",
              "      <td>637</td>\n",
              "      <td>5763215</td>\n",
              "      <td>97.51</td>\n",
              "    </tr>\n",
              "    <tr>\n",
              "      <th>203</th>\n",
              "      <td>2021</td>\n",
              "      <td>Wyoming</td>\n",
              "      <td>1.60</td>\n",
              "      <td>3.3</td>\n",
              "      <td>6.944444</td>\n",
              "      <td>677</td>\n",
              "      <td>583200</td>\n",
              "      <td>93.11</td>\n",
              "    </tr>\n",
              "  </tbody>\n",
              "</table>\n",
              "<p>201 rows × 8 columns</p>\n",
              "</div>\n",
              "    <div class=\"colab-df-buttons\">\n",
              "\n",
              "  <div class=\"colab-df-container\">\n",
              "    <button class=\"colab-df-convert\" onclick=\"convertToInteractive('df-bc74e53a-6099-44b5-81a8-1abec7378a65')\"\n",
              "            title=\"Convert this dataframe to an interactive table.\"\n",
              "            style=\"display:none;\">\n",
              "\n",
              "  <svg xmlns=\"http://www.w3.org/2000/svg\" height=\"24px\" viewBox=\"0 -960 960 960\">\n",
              "    <path d=\"M120-120v-720h720v720H120Zm60-500h600v-160H180v160Zm220 220h160v-160H400v160Zm0 220h160v-160H400v160ZM180-400h160v-160H180v160Zm440 0h160v-160H620v160ZM180-180h160v-160H180v160Zm440 0h160v-160H620v160Z\"/>\n",
              "  </svg>\n",
              "    </button>\n",
              "\n",
              "  <style>\n",
              "    .colab-df-container {\n",
              "      display:flex;\n",
              "      gap: 12px;\n",
              "    }\n",
              "\n",
              "    .colab-df-convert {\n",
              "      background-color: #E8F0FE;\n",
              "      border: none;\n",
              "      border-radius: 50%;\n",
              "      cursor: pointer;\n",
              "      display: none;\n",
              "      fill: #1967D2;\n",
              "      height: 32px;\n",
              "      padding: 0 0 0 0;\n",
              "      width: 32px;\n",
              "    }\n",
              "\n",
              "    .colab-df-convert:hover {\n",
              "      background-color: #E2EBFA;\n",
              "      box-shadow: 0px 1px 2px rgba(60, 64, 67, 0.3), 0px 1px 3px 1px rgba(60, 64, 67, 0.15);\n",
              "      fill: #174EA6;\n",
              "    }\n",
              "\n",
              "    .colab-df-buttons div {\n",
              "      margin-bottom: 4px;\n",
              "    }\n",
              "\n",
              "    [theme=dark] .colab-df-convert {\n",
              "      background-color: #3B4455;\n",
              "      fill: #D2E3FC;\n",
              "    }\n",
              "\n",
              "    [theme=dark] .colab-df-convert:hover {\n",
              "      background-color: #434B5C;\n",
              "      box-shadow: 0px 1px 3px 1px rgba(0, 0, 0, 0.15);\n",
              "      filter: drop-shadow(0px 1px 2px rgba(0, 0, 0, 0.3));\n",
              "      fill: #FFFFFF;\n",
              "    }\n",
              "  </style>\n",
              "\n",
              "    <script>\n",
              "      const buttonEl =\n",
              "        document.querySelector('#df-bc74e53a-6099-44b5-81a8-1abec7378a65 button.colab-df-convert');\n",
              "      buttonEl.style.display =\n",
              "        google.colab.kernel.accessAllowed ? 'block' : 'none';\n",
              "\n",
              "      async function convertToInteractive(key) {\n",
              "        const element = document.querySelector('#df-bc74e53a-6099-44b5-81a8-1abec7378a65');\n",
              "        const dataTable =\n",
              "          await google.colab.kernel.invokeFunction('convertToInteractive',\n",
              "                                                    [key], {});\n",
              "        if (!dataTable) return;\n",
              "\n",
              "        const docLinkHtml = 'Like what you see? Visit the ' +\n",
              "          '<a target=\"_blank\" href=https://colab.research.google.com/notebooks/data_table.ipynb>data table notebook</a>'\n",
              "          + ' to learn more about interactive tables.';\n",
              "        element.innerHTML = '';\n",
              "        dataTable['output_type'] = 'display_data';\n",
              "        await google.colab.output.renderOutput(dataTable, element);\n",
              "        const docLink = document.createElement('div');\n",
              "        docLink.innerHTML = docLinkHtml;\n",
              "        element.appendChild(docLink);\n",
              "      }\n",
              "    </script>\n",
              "  </div>\n",
              "\n",
              "\n",
              "<div id=\"df-17b28a69-2ea6-4f2b-8e1b-f275ca5d05b8\">\n",
              "  <button class=\"colab-df-quickchart\" onclick=\"quickchart('df-17b28a69-2ea6-4f2b-8e1b-f275ca5d05b8')\"\n",
              "            title=\"Suggest charts\"\n",
              "            style=\"display:none;\">\n",
              "\n",
              "<svg xmlns=\"http://www.w3.org/2000/svg\" height=\"24px\"viewBox=\"0 0 24 24\"\n",
              "     width=\"24px\">\n",
              "    <g>\n",
              "        <path d=\"M19 3H5c-1.1 0-2 .9-2 2v14c0 1.1.9 2 2 2h14c1.1 0 2-.9 2-2V5c0-1.1-.9-2-2-2zM9 17H7v-7h2v7zm4 0h-2V7h2v10zm4 0h-2v-4h2v4z\"/>\n",
              "    </g>\n",
              "</svg>\n",
              "  </button>\n",
              "\n",
              "<style>\n",
              "  .colab-df-quickchart {\n",
              "      --bg-color: #E8F0FE;\n",
              "      --fill-color: #1967D2;\n",
              "      --hover-bg-color: #E2EBFA;\n",
              "      --hover-fill-color: #174EA6;\n",
              "      --disabled-fill-color: #AAA;\n",
              "      --disabled-bg-color: #DDD;\n",
              "  }\n",
              "\n",
              "  [theme=dark] .colab-df-quickchart {\n",
              "      --bg-color: #3B4455;\n",
              "      --fill-color: #D2E3FC;\n",
              "      --hover-bg-color: #434B5C;\n",
              "      --hover-fill-color: #FFFFFF;\n",
              "      --disabled-bg-color: #3B4455;\n",
              "      --disabled-fill-color: #666;\n",
              "  }\n",
              "\n",
              "  .colab-df-quickchart {\n",
              "    background-color: var(--bg-color);\n",
              "    border: none;\n",
              "    border-radius: 50%;\n",
              "    cursor: pointer;\n",
              "    display: none;\n",
              "    fill: var(--fill-color);\n",
              "    height: 32px;\n",
              "    padding: 0;\n",
              "    width: 32px;\n",
              "  }\n",
              "\n",
              "  .colab-df-quickchart:hover {\n",
              "    background-color: var(--hover-bg-color);\n",
              "    box-shadow: 0 1px 2px rgba(60, 64, 67, 0.3), 0 1px 3px 1px rgba(60, 64, 67, 0.15);\n",
              "    fill: var(--button-hover-fill-color);\n",
              "  }\n",
              "\n",
              "  .colab-df-quickchart-complete:disabled,\n",
              "  .colab-df-quickchart-complete:disabled:hover {\n",
              "    background-color: var(--disabled-bg-color);\n",
              "    fill: var(--disabled-fill-color);\n",
              "    box-shadow: none;\n",
              "  }\n",
              "\n",
              "  .colab-df-spinner {\n",
              "    border: 2px solid var(--fill-color);\n",
              "    border-color: transparent;\n",
              "    border-bottom-color: var(--fill-color);\n",
              "    animation:\n",
              "      spin 1s steps(1) infinite;\n",
              "  }\n",
              "\n",
              "  @keyframes spin {\n",
              "    0% {\n",
              "      border-color: transparent;\n",
              "      border-bottom-color: var(--fill-color);\n",
              "      border-left-color: var(--fill-color);\n",
              "    }\n",
              "    20% {\n",
              "      border-color: transparent;\n",
              "      border-left-color: var(--fill-color);\n",
              "      border-top-color: var(--fill-color);\n",
              "    }\n",
              "    30% {\n",
              "      border-color: transparent;\n",
              "      border-left-color: var(--fill-color);\n",
              "      border-top-color: var(--fill-color);\n",
              "      border-right-color: var(--fill-color);\n",
              "    }\n",
              "    40% {\n",
              "      border-color: transparent;\n",
              "      border-right-color: var(--fill-color);\n",
              "      border-top-color: var(--fill-color);\n",
              "    }\n",
              "    60% {\n",
              "      border-color: transparent;\n",
              "      border-right-color: var(--fill-color);\n",
              "    }\n",
              "    80% {\n",
              "      border-color: transparent;\n",
              "      border-right-color: var(--fill-color);\n",
              "      border-bottom-color: var(--fill-color);\n",
              "    }\n",
              "    90% {\n",
              "      border-color: transparent;\n",
              "      border-bottom-color: var(--fill-color);\n",
              "    }\n",
              "  }\n",
              "</style>\n",
              "\n",
              "  <script>\n",
              "    async function quickchart(key) {\n",
              "      const quickchartButtonEl =\n",
              "        document.querySelector('#' + key + ' button');\n",
              "      quickchartButtonEl.disabled = true;  // To prevent multiple clicks.\n",
              "      quickchartButtonEl.classList.add('colab-df-spinner');\n",
              "      try {\n",
              "        const charts = await google.colab.kernel.invokeFunction(\n",
              "            'suggestCharts', [key], {});\n",
              "      } catch (error) {\n",
              "        console.error('Error during call to suggestCharts:', error);\n",
              "      }\n",
              "      quickchartButtonEl.classList.remove('colab-df-spinner');\n",
              "      quickchartButtonEl.classList.add('colab-df-quickchart-complete');\n",
              "    }\n",
              "    (() => {\n",
              "      let quickchartButtonEl =\n",
              "        document.querySelector('#df-17b28a69-2ea6-4f2b-8e1b-f275ca5d05b8 button');\n",
              "      quickchartButtonEl.style.display =\n",
              "        google.colab.kernel.accessAllowed ? 'block' : 'none';\n",
              "    })();\n",
              "  </script>\n",
              "</div>\n",
              "\n",
              "  <div id=\"id_907596d4-c31b-4b9e-8f56-958095f4fc8d\">\n",
              "    <style>\n",
              "      .colab-df-generate {\n",
              "        background-color: #E8F0FE;\n",
              "        border: none;\n",
              "        border-radius: 50%;\n",
              "        cursor: pointer;\n",
              "        display: none;\n",
              "        fill: #1967D2;\n",
              "        height: 32px;\n",
              "        padding: 0 0 0 0;\n",
              "        width: 32px;\n",
              "      }\n",
              "\n",
              "      .colab-df-generate:hover {\n",
              "        background-color: #E2EBFA;\n",
              "        box-shadow: 0px 1px 2px rgba(60, 64, 67, 0.3), 0px 1px 3px 1px rgba(60, 64, 67, 0.15);\n",
              "        fill: #174EA6;\n",
              "      }\n",
              "\n",
              "      [theme=dark] .colab-df-generate {\n",
              "        background-color: #3B4455;\n",
              "        fill: #D2E3FC;\n",
              "      }\n",
              "\n",
              "      [theme=dark] .colab-df-generate:hover {\n",
              "        background-color: #434B5C;\n",
              "        box-shadow: 0px 1px 3px 1px rgba(0, 0, 0, 0.15);\n",
              "        filter: drop-shadow(0px 1px 2px rgba(0, 0, 0, 0.3));\n",
              "        fill: #FFFFFF;\n",
              "      }\n",
              "    </style>\n",
              "    <button class=\"colab-df-generate\" onclick=\"generateWithVariable('uh')\"\n",
              "            title=\"Generate code using this dataframe.\"\n",
              "            style=\"display:none;\">\n",
              "\n",
              "  <svg xmlns=\"http://www.w3.org/2000/svg\" height=\"24px\"viewBox=\"0 0 24 24\"\n",
              "       width=\"24px\">\n",
              "    <path d=\"M7,19H8.4L18.45,9,17,7.55,7,17.6ZM5,21V16.75L18.45,3.32a2,2,0,0,1,2.83,0l1.4,1.43a1.91,1.91,0,0,1,.58,1.4,1.91,1.91,0,0,1-.58,1.4L9.25,21ZM18.45,9,17,7.55Zm-12,3A5.31,5.31,0,0,0,4.9,8.1,5.31,5.31,0,0,0,1,6.5,5.31,5.31,0,0,0,4.9,4.9,5.31,5.31,0,0,0,6.5,1,5.31,5.31,0,0,0,8.1,4.9,5.31,5.31,0,0,0,12,6.5,5.46,5.46,0,0,0,6.5,12Z\"/>\n",
              "  </svg>\n",
              "    </button>\n",
              "    <script>\n",
              "      (() => {\n",
              "      const buttonEl =\n",
              "        document.querySelector('#id_907596d4-c31b-4b9e-8f56-958095f4fc8d button.colab-df-generate');\n",
              "      buttonEl.style.display =\n",
              "        google.colab.kernel.accessAllowed ? 'block' : 'none';\n",
              "\n",
              "      buttonEl.onclick = () => {\n",
              "        google.colab.notebook.generateWithVariable('uh');\n",
              "      }\n",
              "      })();\n",
              "    </script>\n",
              "  </div>\n",
              "\n",
              "    </div>\n",
              "  </div>\n"
            ],
            "application/vnd.google.colaboratory.intrinsic+json": {
              "type": "dataframe",
              "variable_name": "uh",
              "summary": "{\n  \"name\": \"uh\",\n  \"rows\": 201,\n  \"fields\": [\n    {\n      \"column\": \"Year\",\n      \"properties\": {\n        \"dtype\": \"number\",\n        \"std\": 1,\n        \"min\": 2021,\n        \"max\": 2024,\n        \"num_unique_values\": 4,\n        \"samples\": [\n          2023,\n          2021,\n          2024\n        ],\n        \"semantic_type\": \"\",\n        \"description\": \"\"\n      }\n    },\n    {\n      \"column\": \"State\",\n      \"properties\": {\n        \"dtype\": \"category\",\n        \"num_unique_values\": 51,\n        \"samples\": [\n          \"Texas\",\n          \"South Carolina\",\n          \"Virginia\"\n        ],\n        \"semantic_type\": \"\",\n        \"description\": \"\"\n      }\n    },\n    {\n      \"column\": \"Debt\",\n      \"properties\": {\n        \"dtype\": \"number\",\n        \"std\": 0.3250517983980262,\n        \"min\": 0.4,\n        \"max\": 2.06,\n        \"num_unique_values\": 10,\n        \"samples\": [\n          1.11,\n          1.5,\n          1.72\n        ],\n        \"semantic_type\": \"\",\n        \"description\": \"\"\n      }\n    },\n    {\n      \"column\": \"Unemployment\",\n      \"properties\": {\n        \"dtype\": \"number\",\n        \"std\": 0.8280339959853477,\n        \"min\": 1.7,\n        \"max\": 5.7,\n        \"num_unique_values\": 37,\n        \"samples\": [\n          3.2,\n          3.5,\n          5.4\n        ],\n        \"semantic_type\": \"\",\n        \"description\": \"\"\n      }\n    },\n    {\n      \"column\": \"homelessness\",\n      \"properties\": {\n        \"dtype\": \"number\",\n        \"std\": 17.640429037222496,\n        \"min\": 1.030396703,\n        \"max\": 142.7553931,\n        \"num_unique_values\": 201,\n        \"samples\": [\n          108.2903546,\n          8.964321592,\n          18.17088865\n        ],\n        \"semantic_type\": \"\",\n        \"description\": \"\"\n      }\n    },\n    {\n      \"column\": \"RentCost\",\n      \"properties\": {\n        \"dtype\": \"number\",\n        \"std\": 261,\n        \"min\": 554,\n        \"max\": 1803,\n        \"num_unique_values\": 179,\n        \"samples\": [\n          782,\n          733,\n          656\n        ],\n        \"semantic_type\": \"\",\n        \"description\": \"\"\n      }\n    },\n    {\n      \"column\": \"Population\",\n      \"properties\": {\n        \"dtype\": \"number\",\n        \"std\": 7215707,\n        \"min\": 581348,\n        \"max\": 39346023,\n        \"num_unique_values\": 102,\n        \"samples\": [\n          8885418,\n          2903780,\n          1421660\n        ],\n        \"semantic_type\": \"\",\n        \"description\": \"\"\n      }\n    },\n    {\n      \"column\": \"COLI\",\n      \"properties\": {\n        \"dtype\": \"number\",\n        \"std\": 19.897701829470847,\n        \"min\": 84.78,\n        \"max\": 195.8,\n        \"num_unique_values\": 146,\n        \"samples\": [\n          90.0,\n          124.09,\n          91.9\n        ],\n        \"semantic_type\": \"\",\n        \"description\": \"\"\n      }\n    }\n  ]\n}"
            }
          },
          "metadata": {},
          "execution_count": 80
        }
      ],
      "source": [
        "#uh for unhoused\n",
        "uh = pd.read_csv('https://raw.githubusercontent.com/ColeHenson/Data-Science24-25/refs/heads/main/homelessness%20rates.csv')\n",
        "#remove weird outlier values in small states that I doubt are accurate\n",
        "uh = uh[uh['homelessness'] <= 900]\n",
        "uh"
      ]
    },
    {
      "cell_type": "markdown",
      "metadata": {
        "id": "uqEYnv7TiRIR"
      },
      "source": [
        "Year: the data was taken from 2021-2024 because recent data is more available\n",
        "State: all 50 states plus DC are included in the data set\n",
        "Debt: debt is debt as a proportion of personal income\n",
        "Unemployment: unemployment rates in each state\n",
        "Homelessness: number of unhoused persons per 10,000\n",
        "rent cost: average cost of rent for a 1 bedroom apartment in the state\n",
        "Population: estimates of the population for each state\n",
        "COLI: cost of living index. Measurement of the cost of living in each state relative to each other."
      ]
    },
    {
      "cell_type": "code",
      "execution_count": 81,
      "metadata": {
        "colab": {
          "base_uri": "https://localhost:8080/",
          "height": 560
        },
        "id": "zHYZ7kUPs2As",
        "outputId": "1464e8a6-1b3c-4259-d54a-0d6a2170c061"
      },
      "outputs": [
        {
          "output_type": "display_data",
          "data": {
            "image/svg+xml": "<?xml version=\"1.0\" encoding=\"UTF-8\" standalone=\"no\"?>\n<!DOCTYPE svg PUBLIC \"-//W3C//DTD SVG 1.1//EN\"\n \"http://www.w3.org/Graphics/SVG/1.1/DTD/svg11.dtd\">\n<!-- Generated by graphviz version 2.43.0 (0)\n -->\n<!-- Title: Homelessness dag Pages: 1 -->\n<svg width=\"720pt\" height=\"404pt\"\n viewBox=\"0.00 0.00 720.00 403.94\" xmlns=\"http://www.w3.org/2000/svg\" xmlns:xlink=\"http://www.w3.org/1999/xlink\">\n<g id=\"graph0\" class=\"graph\" transform=\"scale(0.9 0.9) rotate(0) translate(4 443)\">\n<title>Homelessness dag</title>\n<polygon fill=\"white\" stroke=\"transparent\" points=\"-4,4 -4,-443 792.75,-443 792.75,4 -4,4\"/>\n<!-- Homelessness -->\n<g id=\"node1\" class=\"node\">\n<title>Homelessness</title>\n<ellipse fill=\"none\" stroke=\"black\" cx=\"61.09\" cy=\"-288\" rx=\"61.19\" ry=\"18\"/>\n<text text-anchor=\"middle\" x=\"61.09\" y=\"-284.3\" font-family=\"Times,serif\" font-size=\"14.00\">Homelessness</text>\n</g>\n<!-- Population -->\n<g id=\"node2\" class=\"node\">\n<title>Population</title>\n<ellipse fill=\"none\" stroke=\"black\" cx=\"457.22\" cy=\"-413\" rx=\"48.99\" ry=\"18\"/>\n<text text-anchor=\"middle\" x=\"457.22\" y=\"-409.3\" font-family=\"Times,serif\" font-size=\"14.00\">Population</text>\n</g>\n<!-- Population&#45;&gt;Homelessness -->\n<g id=\"edge1\" class=\"edge\">\n<title>Population&#45;&gt;Homelessness</title>\n<path fill=\"none\" stroke=\"black\" d=\"M411.77,-419.71C347.65,-427.16 227.33,-432.66 140.19,-386 110.69,-370.21 88.45,-338.01 75.39,-314.83\"/>\n<polygon fill=\"black\" stroke=\"black\" points=\"78.36,-312.96 70.52,-305.83 72.2,-316.29 78.36,-312.96\"/>\n<text text-anchor=\"middle\" x=\"297.08\" y=\"-427.8\" font-family=\"Times,serif\" font-size=\"14.00\">Causes</text>\n</g>\n<!-- Unemployment -->\n<g id=\"node3\" class=\"node\">\n<title>Unemployment</title>\n<ellipse fill=\"none\" stroke=\"black\" cx=\"590.26\" cy=\"-191\" rx=\"66.09\" ry=\"18\"/>\n<text text-anchor=\"middle\" x=\"590.26\" y=\"-187.3\" font-family=\"Times,serif\" font-size=\"14.00\">Unemployment</text>\n</g>\n<!-- Unemployment&#45;&gt;Homelessness -->\n<g id=\"edge2\" class=\"edge\">\n<title>Unemployment&#45;&gt;Homelessness</title>\n<path fill=\"none\" stroke=\"black\" d=\"M536.95,-201.74C459.11,-217.56 308.14,-247.68 179.19,-270 161.99,-272.98 143.33,-275.96 126.07,-278.61\"/>\n<polygon fill=\"black\" stroke=\"black\" points=\"125.44,-275.17 116.09,-280.14 126.5,-282.09 125.44,-275.17\"/>\n<text text-anchor=\"middle\" x=\"297.08\" y=\"-255.8\" font-family=\"Times,serif\" font-size=\"14.00\">Causes</text>\n</g>\n<!-- Debt -->\n<g id=\"node7\" class=\"node\">\n<title>Debt</title>\n<ellipse fill=\"none\" stroke=\"black\" cx=\"362.53\" cy=\"-146\" rx=\"27.9\" ry=\"18\"/>\n<text text-anchor=\"middle\" x=\"362.53\" y=\"-142.3\" font-family=\"Times,serif\" font-size=\"14.00\">Debt</text>\n</g>\n<!-- Unemployment&#45;&gt;Debt -->\n<g id=\"edge9\" class=\"edge\">\n<title>Unemployment&#45;&gt;Debt</title>\n<path fill=\"none\" stroke=\"black\" d=\"M539.57,-179.29C528.53,-176.79 516.87,-174.24 505.97,-172 470,-164.62 428.71,-157.2 399.88,-152.18\"/>\n<polygon fill=\"black\" stroke=\"black\" points=\"400.3,-148.7 389.85,-150.45 399.11,-155.6 400.3,-148.7\"/>\n<text text-anchor=\"middle\" x=\"457.22\" y=\"-175.8\" font-family=\"Times,serif\" font-size=\"14.00\">Causes</text>\n</g>\n<!-- RentCost -->\n<g id=\"node4\" class=\"node\">\n<title>RentCost</title>\n<ellipse fill=\"none\" stroke=\"black\" cx=\"457.22\" cy=\"-298\" rx=\"43.59\" ry=\"18\"/>\n<text text-anchor=\"middle\" x=\"457.22\" y=\"-294.3\" font-family=\"Times,serif\" font-size=\"14.00\">RentCost</text>\n</g>\n<!-- RentCost&#45;&gt;Homelessness -->\n<g id=\"edge3\" class=\"edge\">\n<title>RentCost&#45;&gt;Homelessness</title>\n<path fill=\"none\" stroke=\"black\" d=\"M414.44,-301.4C353.84,-305.69 238.09,-311.42 140.19,-302 134.3,-301.43 128.2,-300.66 122.11,-299.77\"/>\n<polygon fill=\"black\" stroke=\"black\" points=\"122.34,-296.27 111.92,-298.18 121.26,-303.18 122.34,-296.27\"/>\n<text text-anchor=\"middle\" x=\"297.08\" y=\"-310.8\" font-family=\"Times,serif\" font-size=\"14.00\">Causes</text>\n</g>\n<!-- COLI -->\n<g id=\"node8\" class=\"node\">\n<title>COLI</title>\n<ellipse fill=\"none\" stroke=\"black\" cx=\"228.39\" cy=\"-214\" rx=\"31.4\" ry=\"18\"/>\n<text text-anchor=\"middle\" x=\"228.39\" y=\"-210.3\" font-family=\"Times,serif\" font-size=\"14.00\">COLI</text>\n</g>\n<!-- RentCost&#45;&gt;COLI -->\n<g id=\"edge6\" class=\"edge\">\n<title>RentCost&#45;&gt;COLI</title>\n<path fill=\"none\" stroke=\"black\" d=\"M419.86,-288.72C383.2,-278.83 325.36,-261.75 277.58,-241 271.58,-238.39 265.35,-235.26 259.44,-232.06\"/>\n<polygon fill=\"black\" stroke=\"black\" points=\"260.94,-228.88 250.51,-227.05 257.52,-234.99 260.94,-228.88\"/>\n<text text-anchor=\"middle\" x=\"362.53\" y=\"-283.8\" font-family=\"Times,serif\" font-size=\"14.00\">Causes</text>\n</g>\n<!-- State -->\n<g id=\"node5\" class=\"node\">\n<title>State</title>\n<ellipse fill=\"none\" stroke=\"black\" cx=\"760.16\" cy=\"-296\" rx=\"28.7\" ry=\"18\"/>\n<text text-anchor=\"middle\" x=\"760.16\" y=\"-292.3\" font-family=\"Times,serif\" font-size=\"14.00\">State</text>\n</g>\n<!-- State&#45;&gt;Homelessness -->\n<g id=\"edge11\" class=\"edge\">\n<title>State&#45;&gt;Homelessness</title>\n<path fill=\"none\" stroke=\"black\" d=\"M741.71,-309.94C712.44,-331.88 650.78,-372 591.26,-372 591.26,-372 591.26,-372 227.39,-372 173.9,-372 120.22,-336.62 89.12,-311.78\"/>\n<polygon fill=\"black\" stroke=\"black\" points=\"91.29,-309.03 81.34,-305.4 86.86,-314.45 91.29,-309.03\"/>\n<text text-anchor=\"middle\" x=\"362.53\" y=\"-375.8\" font-family=\"Times,serif\" font-size=\"14.00\">Causes</text>\n</g>\n<!-- State&#45;&gt;Population -->\n<g id=\"edge16\" class=\"edge\">\n<title>State&#45;&gt;Population</title>\n<path fill=\"none\" stroke=\"black\" d=\"M755.48,-313.92C750.14,-334.96 738.07,-369.1 713.56,-386 654.13,-426.97 567.73,-426.91 512.25,-421.34\"/>\n<polygon fill=\"black\" stroke=\"black\" points=\"512.59,-417.86 502.27,-420.24 511.83,-424.81 512.59,-417.86\"/>\n<text text-anchor=\"middle\" x=\"694.06\" y=\"-407.8\" font-family=\"Times,serif\" font-size=\"14.00\">Causes</text>\n</g>\n<!-- State&#45;&gt;Unemployment -->\n<g id=\"edge13\" class=\"edge\">\n<title>State&#45;&gt;Unemployment</title>\n<path fill=\"none\" stroke=\"black\" d=\"M754.51,-278.1C748.47,-258.6 735.95,-228.04 713.56,-212 700,-202.28 683.46,-196.52 666.97,-193.22\"/>\n<polygon fill=\"black\" stroke=\"black\" points=\"667.19,-189.7 656.74,-191.46 666.01,-196.6 667.19,-189.7\"/>\n<text text-anchor=\"middle\" x=\"694.06\" y=\"-215.8\" font-family=\"Times,serif\" font-size=\"14.00\">Causes</text>\n</g>\n<!-- State&#45;&gt;RentCost -->\n<g id=\"edge14\" class=\"edge\">\n<title>State&#45;&gt;RentCost</title>\n<path fill=\"none\" stroke=\"black\" d=\"M731.38,-296.18C681.42,-296.52 575.61,-297.22 511.33,-297.65\"/>\n<polygon fill=\"black\" stroke=\"black\" points=\"510.98,-294.15 501,-297.72 511.02,-301.15 510.98,-294.15\"/>\n<text text-anchor=\"middle\" x=\"694.06\" y=\"-299.8\" font-family=\"Times,serif\" font-size=\"14.00\">Causes</text>\n</g>\n<!-- State&#45;&gt;Debt -->\n<g id=\"edge12\" class=\"edge\">\n<title>State&#45;&gt;Debt</title>\n<path fill=\"none\" stroke=\"black\" d=\"M759.27,-277.69C758.36,-246.72 751.6,-184.37 713.56,-154 666.17,-116.16 479.99,-132.45 400.18,-141.47\"/>\n<polygon fill=\"black\" stroke=\"black\" points=\"399.63,-138.01 390.1,-142.64 400.43,-144.97 399.63,-138.01\"/>\n<text text-anchor=\"middle\" x=\"590.26\" y=\"-137.8\" font-family=\"Times,serif\" font-size=\"14.00\">Causes</text>\n</g>\n<!-- State&#45;&gt;COLI -->\n<g id=\"edge15\" class=\"edge\">\n<title>State&#45;&gt;COLI</title>\n<path fill=\"none\" stroke=\"black\" d=\"M732.19,-291.68C685.92,-284.29 588.43,-268.77 505.97,-256 421.6,-242.93 322.69,-228.01 268.99,-219.94\"/>\n<polygon fill=\"black\" stroke=\"black\" points=\"269.28,-216.44 258.87,-218.42 268.24,-223.36 269.28,-216.44\"/>\n<text text-anchor=\"middle\" x=\"457.22\" y=\"-259.8\" font-family=\"Times,serif\" font-size=\"14.00\">Causes</text>\n</g>\n<!-- Year -->\n<g id=\"node6\" class=\"node\">\n<title>Year</title>\n<ellipse fill=\"none\" stroke=\"black\" cx=\"760.16\" cy=\"-89\" rx=\"27.1\" ry=\"18\"/>\n<text text-anchor=\"middle\" x=\"760.16\" y=\"-85.3\" font-family=\"Times,serif\" font-size=\"14.00\">Year</text>\n</g>\n<!-- Year&#45;&gt;Homelessness -->\n<g id=\"edge10\" class=\"edge\">\n<title>Year&#45;&gt;Homelessness</title>\n<path fill=\"none\" stroke=\"black\" d=\"M743.93,-74.3C716.07,-49.02 653.95,0 591.26,0 591.26,0 591.26,0 227.39,0 108.39,0 73.83,-187.22 64.9,-259.76\"/>\n<polygon fill=\"black\" stroke=\"black\" points=\"61.39,-259.65 63.72,-269.98 68.35,-260.45 61.39,-259.65\"/>\n<text text-anchor=\"middle\" x=\"362.53\" y=\"-3.8\" font-family=\"Times,serif\" font-size=\"14.00\">Causes</text>\n</g>\n<!-- Year&#45;&gt;Unemployment -->\n<g id=\"edge18\" class=\"edge\">\n<title>Year&#45;&gt;Unemployment</title>\n<path fill=\"none\" stroke=\"black\" d=\"M741.5,-102.19C721.45,-116.9 687.49,-140.99 656.56,-159 649.42,-163.15 641.67,-167.27 634.08,-171.11\"/>\n<polygon fill=\"black\" stroke=\"black\" points=\"632.37,-168.05 624.96,-175.62 635.48,-174.32 632.37,-168.05\"/>\n<text text-anchor=\"middle\" x=\"694.06\" y=\"-149.8\" font-family=\"Times,serif\" font-size=\"14.00\">Causes</text>\n</g>\n<!-- Year&#45;&gt;RentCost -->\n<g id=\"edge19\" class=\"edge\">\n<title>Year&#45;&gt;RentCost</title>\n<path fill=\"none\" stroke=\"black\" d=\"M758.41,-107.05C756.21,-136.44 747.53,-194.62 713.56,-227 684.16,-255.02 573.86,-278.16 508.24,-289.83\"/>\n<polygon fill=\"black\" stroke=\"black\" points=\"507.36,-286.43 498.11,-291.6 508.56,-293.32 507.36,-286.43\"/>\n<text text-anchor=\"middle\" x=\"694.06\" y=\"-251.8\" font-family=\"Times,serif\" font-size=\"14.00\">Causes</text>\n</g>\n<!-- Year&#45;&gt;Debt -->\n<g id=\"edge17\" class=\"edge\">\n<title>Year&#45;&gt;Debt</title>\n<path fill=\"none\" stroke=\"black\" d=\"M732.84,-87.81C673.37,-85.92 524.73,-85.79 408.48,-124 403.45,-125.65 398.27,-127.77 393.29,-130.03\"/>\n<polygon fill=\"black\" stroke=\"black\" points=\"391.56,-126.98 384.07,-134.47 394.59,-133.28 391.56,-126.98\"/>\n<text text-anchor=\"middle\" x=\"590.26\" y=\"-100.8\" font-family=\"Times,serif\" font-size=\"14.00\">Causes</text>\n</g>\n<!-- Year&#45;&gt;COLI -->\n<g id=\"edge20\" class=\"edge\">\n<title>Year&#45;&gt;COLI</title>\n<path fill=\"none\" stroke=\"black\" d=\"M733.63,-84.27C675.16,-74.36 527.43,-54.48 408.48,-82 345.39,-96.6 321.64,-98.54 277.58,-146 262.93,-161.79 272.62,-173.85 259.58,-191 258.91,-191.89 258.18,-192.77 257.43,-193.62\"/>\n<polygon fill=\"black\" stroke=\"black\" points=\"254.75,-191.34 249.93,-200.78 259.58,-196.4 254.75,-191.34\"/>\n<text text-anchor=\"middle\" x=\"457.22\" y=\"-85.8\" font-family=\"Times,serif\" font-size=\"14.00\">Causes</text>\n</g>\n<!-- Debt&#45;&gt;Homelessness -->\n<g id=\"edge4\" class=\"edge\">\n<title>Debt&#45;&gt;Homelessness</title>\n<path fill=\"none\" stroke=\"black\" d=\"M334.52,-143.87C317.98,-143.1 296.44,-143.03 277.58,-146 240.49,-151.85 229.94,-153.63 197.19,-172 153.02,-196.77 110.05,-237.35 84.84,-263.35\"/>\n<polygon fill=\"black\" stroke=\"black\" points=\"82.3,-260.95 77.91,-270.6 87.35,-265.79 82.3,-260.95\"/>\n<text text-anchor=\"middle\" x=\"228.39\" y=\"-175.8\" font-family=\"Times,serif\" font-size=\"14.00\">Causes</text>\n</g>\n<!-- Debt&#45;&gt;COLI -->\n<g id=\"edge7\" class=\"edge\">\n<title>Debt&#45;&gt;COLI</title>\n<path fill=\"none\" stroke=\"black\" d=\"M334.38,-147.31C317.19,-149.13 295.01,-153.33 277.58,-163 265.93,-169.47 255.44,-179.72 247.24,-189.34\"/>\n<polygon fill=\"black\" stroke=\"black\" points=\"244.48,-187.19 240.92,-197.17 249.92,-191.59 244.48,-187.19\"/>\n<text text-anchor=\"middle\" x=\"297.08\" y=\"-166.8\" font-family=\"Times,serif\" font-size=\"14.00\">Causes</text>\n</g>\n<!-- COLI&#45;&gt;Homelessness -->\n<g id=\"edge5\" class=\"edge\">\n<title>COLI&#45;&gt;Homelessness</title>\n<path fill=\"none\" stroke=\"black\" d=\"M203.35,-224.76C177.63,-236.28 136.3,-254.78 104.98,-268.8\"/>\n<polygon fill=\"black\" stroke=\"black\" points=\"103.3,-265.72 95.61,-273 106.16,-272.11 103.3,-265.72\"/>\n<text text-anchor=\"middle\" x=\"159.69\" y=\"-254.8\" font-family=\"Times,serif\" font-size=\"14.00\">Causes</text>\n</g>\n<!-- COLI&#45;&gt;Debt -->\n<g id=\"edge8\" class=\"edge\">\n<title>COLI&#45;&gt;Debt</title>\n<path fill=\"none\" stroke=\"black\" d=\"M255.67,-204.93C273.36,-198.4 296.95,-188.86 316.58,-178 323,-174.45 329.61,-170.16 335.71,-165.89\"/>\n<polygon fill=\"black\" stroke=\"black\" points=\"338.16,-168.44 344.21,-159.74 334.05,-162.77 338.16,-168.44\"/>\n<text text-anchor=\"middle\" x=\"297.08\" y=\"-198.8\" font-family=\"Times,serif\" font-size=\"14.00\">Causes</text>\n</g>\n</g>\n</svg>\n",
            "text/plain": [
              "<graphviz.graphs.Digraph at 0x7eed0116c6d0>"
            ]
          },
          "metadata": {}
        }
      ],
      "source": [
        "#first i will try to make a casual diagram with arviz\n",
        "#i looked it up appearently graphviz is what I want to be using\n",
        "import graphviz\n",
        "f = graphviz.Digraph('Homelessness dag', filename='hmlns.gv')\n",
        "f.attr(rankdir='RL', size='10,10')\n",
        "#f is the graph f.node creates a node in the graph\n",
        "f.node('Homelessness')\n",
        "f.node('Population')\n",
        "f.node('Unemployment')\n",
        "f.node('RentCost')\n",
        "f.node('State')\n",
        "f.node('Year')\n",
        "f.node('Debt')\n",
        "f.node('COLI')\n",
        "#edges are basically the connections between the nodes. The label is set to\n",
        "#causes because I am showing where I think there are causal relationships.\n",
        "f.edge('Population', 'Homelessness', label='Causes')\n",
        "f.edge('Unemployment', 'Homelessness', label='Causes')\n",
        "f.edge('RentCost', 'Homelessness', label='Causes')\n",
        "f.edge('Debt','Homelessness', label='Causes')\n",
        "f.edge('COLI', 'Homelessness', label ='Causes')\n",
        "f.edge('RentCost', 'COLI', label='Causes')\n",
        "f.edge('Debt', 'COLI', label='Causes')\n",
        "f.edge('COLI', 'Debt', label='Causes')\n",
        "f.edge('Unemployment', 'Debt', label='Causes')\n",
        "f.edge('Year', 'Homelessness', label='Causes')\n",
        "f.edge('State', 'Homelessness', label='Causes')\n",
        "f.edge('State', 'Debt', label='Causes')\n",
        "f.edge('State', 'Unemployment', label='Causes')\n",
        "f.edge('State', 'RentCost', label='Causes')\n",
        "f.edge('State', 'COLI', label='Causes')\n",
        "f.edge('State', 'Population', label='Causes')\n",
        "f.edge('Year', 'Debt', label='Causes')\n",
        "f.edge('Year', 'Unemployment', label='Causes')\n",
        "f.edge('Year', 'RentCost', label='Causes')\n",
        "f.edge('Year', 'COLI', label='Causes')\n",
        "display(f)"
      ]
    },
    {
      "cell_type": "markdown",
      "metadata": {
        "id": "e8Jn6MtTMNkd"
      },
      "source": [
        "Ok. Lots to talk about here. I'm going to start witht he connections to homelessness which is the variable that I am predicting. For starters, all the variable are causes of homelessness, in fact I picked out the variables because I thought they were causes. Population causes homelessness because more people means less land recources per person, unemployment reduces the number of people rich enough to pay rent or buy a house, higher rent costs mean less people can afford rent, higher rates of indebtedness measured as a percentage of income means less money if avaiable for housing. COLI is cost of living index, if it is more expensive to live somewhere, homelessness among unemployed people is going to by higher. Wages are also higher but only if you have a job. I also said debt causes COLI to increase with the rational that servicing debt cost money, however, I don't know whether or not this is measured in the COLI data I am using. Furthermore, there are confounding variables like wages that impact both. The reason I did not include wage value in this data set is that the people at risk for homelessness are not going to be represented in the wage data and in fact higher wages are likely to be associated with higher homelessness because of differences in cost of living and urban populations. State and Year are variables I decided to add later and I said they cause basically all the other variables because the time and place contains a lot of implied information that is relevant to all the other variables."
      ]
    },
    {
      "cell_type": "code",
      "execution_count": 82,
      "metadata": {
        "id": "lAdwGO6DYZ1e"
      },
      "outputs": [],
      "source": [
        "uh = uh.dropna(how='all')"
      ]
    },
    {
      "cell_type": "code",
      "execution_count": 83,
      "metadata": {
        "colab": {
          "base_uri": "https://localhost:8080/",
          "height": 49,
          "referenced_widgets": [
            "7d3b16a86ffa472db91f8cd8af3cb575",
            "6e8ac943a0744e39aa30c52f1e39a69d",
            "505261e377ac45ce80155e4248162767",
            "4c5986420b0f41528070770c80684d51"
          ]
        },
        "id": "3dIohxgg2SMp",
        "outputId": "c13b0572-d3d7-4495-c04f-4121571ebfbc"
      },
      "outputs": [
        {
          "output_type": "display_data",
          "data": {
            "text/plain": [
              "Output()"
            ],
            "application/vnd.jupyter.widget-view+json": {
              "version_major": 2,
              "version_minor": 0,
              "model_id": "7d3b16a86ffa472db91f8cd8af3cb575"
            }
          },
          "metadata": {}
        },
        {
          "output_type": "display_data",
          "data": {
            "text/plain": [],
            "text/html": [
              "<pre style=\"white-space:pre;overflow-x:auto;line-height:normal;font-family:Menlo,'DejaVu Sans Mono',consolas,'Courier New',monospace\"></pre>\n"
            ]
          },
          "metadata": {}
        },
        {
          "output_type": "display_data",
          "data": {
            "text/plain": [
              "Output()"
            ],
            "application/vnd.jupyter.widget-view+json": {
              "version_major": 2,
              "version_minor": 0,
              "model_id": "505261e377ac45ce80155e4248162767"
            }
          },
          "metadata": {}
        },
        {
          "output_type": "display_data",
          "data": {
            "text/plain": [],
            "text/html": [
              "<pre style=\"white-space:pre;overflow-x:auto;line-height:normal;font-family:Menlo,'DejaVu Sans Mono',consolas,'Courier New',monospace\"></pre>\n"
            ]
          },
          "metadata": {}
        }
      ],
      "source": [
        "#I am going to start simple with a model of homelessness with cost of living\n",
        "#index as a variable. I predict states with a higher cost of living will\n",
        "# have higher rates of homelessness because the minimum income required to live\n",
        "# is higher\n",
        "model_hmln_coli = bmb.Model(\"homelessness ~ COLI\", uh, family=\"negativebinomial\")\n",
        "idata_hmln_coli = model_hmln_coli.fit(idata_kwargs={\"log_likelihood\":True})"
      ]
    },
    {
      "cell_type": "code",
      "execution_count": 84,
      "metadata": {
        "colab": {
          "base_uri": "https://localhost:8080/",
          "height": 49,
          "referenced_widgets": [
            "3bec95ced1424cfd90eb6eb52e1c0156",
            "831d1e50c9ef4323a08f246d70e04daa",
            "2a182f932ae64ed7a92514497e2936d3",
            "33461c68749243988240597eb7a34462"
          ]
        },
        "id": "ZMpQlXtL3CeU",
        "outputId": "773b3a27-8671-4a30-bb56-a85c0233b998"
      },
      "outputs": [
        {
          "output_type": "display_data",
          "data": {
            "text/plain": [
              "Output()"
            ],
            "application/vnd.jupyter.widget-view+json": {
              "version_major": 2,
              "version_minor": 0,
              "model_id": "3bec95ced1424cfd90eb6eb52e1c0156"
            }
          },
          "metadata": {}
        },
        {
          "output_type": "display_data",
          "data": {
            "text/plain": [],
            "text/html": [
              "<pre style=\"white-space:pre;overflow-x:auto;line-height:normal;font-family:Menlo,'DejaVu Sans Mono',consolas,'Courier New',monospace\"></pre>\n"
            ]
          },
          "metadata": {}
        },
        {
          "output_type": "display_data",
          "data": {
            "text/plain": [
              "Output()"
            ],
            "application/vnd.jupyter.widget-view+json": {
              "version_major": 2,
              "version_minor": 0,
              "model_id": "2a182f932ae64ed7a92514497e2936d3"
            }
          },
          "metadata": {}
        },
        {
          "output_type": "display_data",
          "data": {
            "text/plain": [],
            "text/html": [
              "<pre style=\"white-space:pre;overflow-x:auto;line-height:normal;font-family:Menlo,'DejaVu Sans Mono',consolas,'Courier New',monospace\"></pre>\n"
            ]
          },
          "metadata": {}
        }
      ],
      "source": [
        "#similarly, urban areas have higher levels of homelessness so I think the model\n",
        "#will be improved if I account for different population levels. I could have\n",
        "# used population density instead, but the data for population was easier to come by\n",
        "# sqrt populaiton because there is likely to be a deminishing impact of\n",
        "#populaiton on the homelessness rates.\n",
        "#eg double population will not double #homelessness/10000 people\n",
        "model_hmln_coli_pop = bmb.Model(\"homelessness ~ COLI + np.sqrt(Population)\", uh, family=\"negativebinomial\")\n",
        "idata_hmln_coli_pop = model_hmln_coli_pop.fit(idata_kwargs={\"log_likelihood\":True})"
      ]
    },
    {
      "cell_type": "code",
      "execution_count": 85,
      "metadata": {
        "colab": {
          "base_uri": "https://localhost:8080/",
          "height": 49,
          "referenced_widgets": [
            "baafdaf6456b4ec9a8471e246fff188d",
            "1749f8bfcb8c4befa295f51be67722a8",
            "b476e0a20cbe4add877ba152a09d268d",
            "3b3d5bfdcccd4e48bee6cc4029e0900b"
          ]
        },
        "id": "NxdL1kqR3owp",
        "outputId": "362e2947-05b6-46d7-ac9a-4ebcafdb69e5"
      },
      "outputs": [
        {
          "output_type": "display_data",
          "data": {
            "text/plain": [
              "Output()"
            ],
            "application/vnd.jupyter.widget-view+json": {
              "version_major": 2,
              "version_minor": 0,
              "model_id": "baafdaf6456b4ec9a8471e246fff188d"
            }
          },
          "metadata": {}
        },
        {
          "output_type": "display_data",
          "data": {
            "text/plain": [],
            "text/html": [
              "<pre style=\"white-space:pre;overflow-x:auto;line-height:normal;font-family:Menlo,'DejaVu Sans Mono',consolas,'Courier New',monospace\"></pre>\n"
            ]
          },
          "metadata": {}
        },
        {
          "output_type": "display_data",
          "data": {
            "text/plain": [
              "Output()"
            ],
            "application/vnd.jupyter.widget-view+json": {
              "version_major": 2,
              "version_minor": 0,
              "model_id": "b476e0a20cbe4add877ba152a09d268d"
            }
          },
          "metadata": {}
        },
        {
          "output_type": "display_data",
          "data": {
            "text/plain": [],
            "text/html": [
              "<pre style=\"white-space:pre;overflow-x:auto;line-height:normal;font-family:Menlo,'DejaVu Sans Mono',consolas,'Courier New',monospace\"></pre>\n"
            ]
          },
          "metadata": {}
        }
      ],
      "source": [
        "# switched out population for unemployment to compare the two\n",
        "model_hmln_coli_unp = bmb.Model(\"homelessness ~ COLI + Unemployment\", uh, family=\"negativebinomial\")\n",
        "idata_hmln_coli_unp = model_hmln_coli_unp.fit(idata_kwargs={\"log_likelihood\":True})"
      ]
    },
    {
      "cell_type": "code",
      "execution_count": 86,
      "metadata": {
        "colab": {
          "base_uri": "https://localhost:8080/",
          "height": 86,
          "referenced_widgets": [
            "1f2048007c1a4c5c94b827dbd9801950",
            "7a5ea94e371f47069c279778cac17895",
            "cb9c8ee70e4f4336b182aabd9a9ef5e8",
            "383f7806d5484d168a08bd3d905a748c"
          ]
        },
        "id": "BbG28AZB6vde",
        "outputId": "156b0c1f-9319-49ad-87dc-2fb9dfa67ce4"
      },
      "outputs": [
        {
          "output_type": "display_data",
          "data": {
            "text/plain": [
              "Output()"
            ],
            "application/vnd.jupyter.widget-view+json": {
              "version_major": 2,
              "version_minor": 0,
              "model_id": "1f2048007c1a4c5c94b827dbd9801950"
            }
          },
          "metadata": {}
        },
        {
          "output_type": "display_data",
          "data": {
            "text/plain": [],
            "text/html": [
              "<pre style=\"white-space:pre;overflow-x:auto;line-height:normal;font-family:Menlo,'DejaVu Sans Mono',consolas,'Courier New',monospace\"></pre>\n"
            ]
          },
          "metadata": {}
        },
        {
          "output_type": "display_data",
          "data": {
            "text/plain": [
              "Output()"
            ],
            "application/vnd.jupyter.widget-view+json": {
              "version_major": 2,
              "version_minor": 0,
              "model_id": "cb9c8ee70e4f4336b182aabd9a9ef5e8"
            }
          },
          "metadata": {}
        },
        {
          "output_type": "display_data",
          "data": {
            "text/plain": [],
            "text/html": [
              "<pre style=\"white-space:pre;overflow-x:auto;line-height:normal;font-family:Menlo,'DejaVu Sans Mono',consolas,'Courier New',monospace\"></pre>\n"
            ]
          },
          "metadata": {}
        },
        {
          "output_type": "stream",
          "name": "stderr",
          "text": [
            "ERROR:pymc.stats.convergence:The effective sample size per chain is smaller than 100 for some parameters.  A higher number is needed for reliable rhat and ess computation. See https://arxiv.org/abs/1903.08008 for details\n"
          ]
        }
      ],
      "source": [
        "#model with all variables except for population. The model throws a fit when I\n",
        "#include population values, I think this is because the population values are\n",
        "# very large. My hope is that including a \"state\" categorical variable will\n",
        "# have the same impact because there are differences between states in pop\n",
        "model_hmln = bmb.Model(\"homelessness ~ Unemployment + RentCost + Debt + COLI + State\", uh, family=\"negativebinomial\")\n",
        "idata_hmln = model_hmln.fit(idata_kwargs={\"log_likelihood\":True})"
      ]
    },
    {
      "cell_type": "code",
      "execution_count": 87,
      "metadata": {
        "colab": {
          "base_uri": "https://localhost:8080/",
          "height": 49,
          "referenced_widgets": [
            "bd8d74980036407da5d8e0a93f0ef6b6",
            "e5f34b75dacf41fd8fb7ce774b909b5e",
            "70a391f458494af396604a4c85a0760b",
            "0c811f193c6447eab2cfc14bc78370d3"
          ]
        },
        "id": "08Ti-Px_r69y",
        "outputId": "69a37816-5840-40ac-bad8-98c052f3f030"
      },
      "outputs": [
        {
          "output_type": "display_data",
          "data": {
            "text/plain": [
              "Output()"
            ],
            "application/vnd.jupyter.widget-view+json": {
              "version_major": 2,
              "version_minor": 0,
              "model_id": "bd8d74980036407da5d8e0a93f0ef6b6"
            }
          },
          "metadata": {}
        },
        {
          "output_type": "display_data",
          "data": {
            "text/plain": [],
            "text/html": [
              "<pre style=\"white-space:pre;overflow-x:auto;line-height:normal;font-family:Menlo,'DejaVu Sans Mono',consolas,'Courier New',monospace\"></pre>\n"
            ]
          },
          "metadata": {}
        },
        {
          "output_type": "display_data",
          "data": {
            "text/plain": [
              "Output()"
            ],
            "application/vnd.jupyter.widget-view+json": {
              "version_major": 2,
              "version_minor": 0,
              "model_id": "70a391f458494af396604a4c85a0760b"
            }
          },
          "metadata": {}
        },
        {
          "output_type": "display_data",
          "data": {
            "text/plain": [],
            "text/html": [
              "<pre style=\"white-space:pre;overflow-x:auto;line-height:normal;font-family:Menlo,'DejaVu Sans Mono',consolas,'Courier New',monospace\"></pre>\n"
            ]
          },
          "metadata": {}
        }
      ],
      "source": [
        "#this is the same model but without state\n",
        "model_hmln_ns = bmb.Model(\"homelessness ~ Unemployment + RentCost + Debt + COLI\", uh, family=\"negativebinomial\")\n",
        "idata_hmln_ns = model_hmln_ns.fit(idata_kwargs={\"log_likelihood\":True})"
      ]
    },
    {
      "cell_type": "code",
      "execution_count": 88,
      "metadata": {
        "colab": {
          "base_uri": "https://localhost:8080/",
          "height": 596
        },
        "id": "3Wz0Kepyrsa8",
        "outputId": "51e050d5-5200-477c-b44e-30c71e9d9062"
      },
      "outputs": [
        {
          "output_type": "stream",
          "name": "stderr",
          "text": [
            "/usr/local/lib/python3.11/dist-packages/arviz/stats/stats.py:795: UserWarning: Estimated shape parameter of Pareto distribution is greater than 0.70 for one or more samples. You should consider using a more robust model, this is because importance sampling is less likely to work well if the marginal posterior and LOO posterior are very different. This is more likely to happen with a non-robust model and highly influential observations.\n",
            "  warnings.warn(\n"
          ]
        },
        {
          "output_type": "execute_result",
          "data": {
            "text/plain": [
              "<Axes: title={'center': 'Model comparison\\nhigher is better'}, xlabel='elpd_loo (log)', ylabel='ranked models'>"
            ]
          },
          "metadata": {},
          "execution_count": 88
        },
        {
          "output_type": "display_data",
          "data": {
            "text/plain": [
              "<Figure size 600x500 with 1 Axes>"
            ],
            "image/png": "[encoded data removed]"
          },
          "metadata": {}
        }
      ],
      "source": [
        "cmp_df = az.compare( {\"hmln\":idata_hmln,\"hmln_ns\":idata_hmln_ns, \"hmln_coli\":idata_hmln_coli, \"hmln_coli_pop\":idata_hmln_coli_pop,  \"hmln_coli_unp\":idata_hmln_coli_unp} )\n",
        "az.plot_compare(cmp_df)"
      ]
    },
    {
      "cell_type": "markdown",
      "source": [
        "Looking at these elpd_loo values, there is a very big difference when I add the state variable. This aligns with my intuition because the state variable represents a bunch of different variables like social safety nets that doesn't show up anywhere in the data I have."
      ],
      "metadata": {
        "id": "uPB-mA6E86xO"
      }
    },
    {
      "cell_type": "code",
      "execution_count": 89,
      "metadata": {
        "colab": {
          "base_uri": "https://localhost:8080/",
          "height": 86,
          "referenced_widgets": [
            "15af819e4e3f4f1b94b9c354436a0ddd",
            "ee72dacda47848cfb2e5d2b38d86ca80",
            "071f05d8125541ac9766e47364a039b3",
            "b49ff987d5964e92afe96ece1da6f02e"
          ]
        },
        "id": "gPswJhKUbvdj",
        "outputId": "abc43706-1915-4b5b-d979-7325a2239f6d"
      },
      "outputs": [
        {
          "output_type": "display_data",
          "data": {
            "text/plain": [
              "Output()"
            ],
            "application/vnd.jupyter.widget-view+json": {
              "version_major": 2,
              "version_minor": 0,
              "model_id": "15af819e4e3f4f1b94b9c354436a0ddd"
            }
          },
          "metadata": {}
        },
        {
          "output_type": "display_data",
          "data": {
            "text/plain": [],
            "text/html": [
              "<pre style=\"white-space:pre;overflow-x:auto;line-height:normal;font-family:Menlo,'DejaVu Sans Mono',consolas,'Courier New',monospace\"></pre>\n"
            ]
          },
          "metadata": {}
        },
        {
          "output_type": "display_data",
          "data": {
            "text/plain": [
              "Output()"
            ],
            "application/vnd.jupyter.widget-view+json": {
              "version_major": 2,
              "version_minor": 0,
              "model_id": "071f05d8125541ac9766e47364a039b3"
            }
          },
          "metadata": {}
        },
        {
          "output_type": "display_data",
          "data": {
            "text/plain": [],
            "text/html": [
              "<pre style=\"white-space:pre;overflow-x:auto;line-height:normal;font-family:Menlo,'DejaVu Sans Mono',consolas,'Courier New',monospace\"></pre>\n"
            ]
          },
          "metadata": {}
        },
        {
          "output_type": "stream",
          "name": "stderr",
          "text": [
            "ERROR:pymc.stats.convergence:The effective sample size per chain is smaller than 100 for some parameters.  A higher number is needed for reliable rhat and ess computation. See https://arxiv.org/abs/1903.08008 for details\n"
          ]
        }
      ],
      "source": [
        "# now I am going to try removing some of the variables I think are less likely\n",
        "# to have an impact\n",
        "# i will start with rentcost data because it should actually be included in the\n",
        "# coli data\n",
        "model_hmln_nrc = bmb.Model(\"homelessness ~ State + Unemployment + Year\", uh, family=\"negativebinomial\")\n",
        "idata_hmln_nrc = model_hmln_nrc.fit(idata_kwargs={\"log_likelihood\":True})"
      ]
    },
    {
      "cell_type": "markdown",
      "source": [
        "I did some fiddling with different variables and I found that State and Unemployment numbers were as good as State, Unemployment and more variables."
      ],
      "metadata": {
        "id": "1MRm6s0L_r_q"
      }
    },
    {
      "cell_type": "code",
      "source": [
        "cmp_df = az.compare({\"hmln\":idata_hmln,\"hmln_ns\":idata_hmln_ns,\n",
        "                      \"hmln_coli\":idata_hmln_coli, \"hmln_coli_pop\":idata_hmln_coli_pop,\n",
        "                      \"hmln_coli_unp\":idata_hmln_coli_unp, \"hmln_nrc\":idata_hmln_nrc})\n",
        "az.plot_compare(cmp_df)"
      ],
      "metadata": {
        "id": "PbiAWain93FF",
        "outputId": "b8e522d7-400a-4767-b23b-ca0512bff55a",
        "colab": {
          "base_uri": "https://localhost:8080/",
          "height": 717
        }
      },
      "execution_count": 90,
      "outputs": [
        {
          "output_type": "stream",
          "name": "stderr",
          "text": [
            "/usr/local/lib/python3.11/dist-packages/arviz/stats/stats.py:795: UserWarning: Estimated shape parameter of Pareto distribution is greater than 0.70 for one or more samples. You should consider using a more robust model, this is because importance sampling is less likely to work well if the marginal posterior and LOO posterior are very different. This is more likely to happen with a non-robust model and highly influential observations.\n",
            "  warnings.warn(\n",
            "/usr/local/lib/python3.11/dist-packages/arviz/stats/stats.py:795: UserWarning: Estimated shape parameter of Pareto distribution is greater than 0.70 for one or more samples. You should consider using a more robust model, this is because importance sampling is less likely to work well if the marginal posterior and LOO posterior are very different. This is more likely to happen with a non-robust model and highly influential observations.\n",
            "  warnings.warn(\n"
          ]
        },
        {
          "output_type": "execute_result",
          "data": {
            "text/plain": [
              "<Axes: title={'center': 'Model comparison\\nhigher is better'}, xlabel='elpd_loo (log)', ylabel='ranked models'>"
            ]
          },
          "metadata": {},
          "execution_count": 90
        },
        {
          "output_type": "display_data",
          "data": {
            "text/plain": [
              "<Figure size 600x600 with 1 Axes>"
            ],
            "image/png": "[encoded data removed]"
          },
          "metadata": {}
        }
      ]
    },
    {
      "cell_type": "markdown",
      "source": [
        "So what I have learned from this is essentially that the categorical variable state does the best job of predicting the homelessness rates of all the variables and in fact the other variables don't matter as much. In fact, State and Unemployment seem to be the best variable to use. This checks out with my intuition as well because when people don't have jobs, they can't afford to buy and house and the state you live in has a lot to do with all the other variables. I decided to also add year because while the data I used came from a relatively short time frame of only 4 years, there are also national trends of homelessness that I think the year has an impact on."
      ],
      "metadata": {
        "id": "z3V_yjnl-TaK"
      }
    },
    {
      "cell_type": "code",
      "source": [
        "# code from notes\n",
        "#there's more code here so I could plot two HDIs\n",
        "_, ax = plt.subplots(sharey=True, sharex=\"col\", figsize=(12, 6))\n",
        "#mean line\n",
        "bmb.interpret.plot_predictions(model_hmln_nrc, idata_hmln_nrc, \"Unemployment\", ax=ax, fig_kwargs={\"color\":\"k\"})\n",
        "#94% HDI\n",
        "bmb.interpret.plot_predictions(model_hmln_nrc, idata_hmln_nrc, \"Unemployment\", pps=True, ax=ax)\n",
        "#65% HDI\n",
        "ax_ = bmb.interpret.plot_predictions(model_hmln_nrc, idata_hmln_nrc, \"Unemployment\", pps=True, ax=ax, prob=0.65)\n",
        "ax_[1][0].get_children()[5].set_facecolor('C1')\n",
        "\n",
        "#raw data\n",
        "ax.plot(uh.Unemployment, uh.homelessness, \"C2.\", zorder=-3)"
      ],
      "metadata": {
        "id": "V6XL-ajHBq-m",
        "outputId": "eba03c9b-fd39-4fe7-cafd-091666b219a5",
        "colab": {
          "base_uri": "https://localhost:8080/",
          "height": 629
        }
      },
      "execution_count": 91,
      "outputs": [
        {
          "output_type": "stream",
          "name": "stderr",
          "text": [
            "/usr/local/lib/python3.11/dist-packages/arviz/rcparams.py:368: FutureWarning: stats.hdi_prob is deprecated since 0.18.0, use stats.ci_prob instead\n",
            "  warnings.warn(\n",
            "/usr/local/lib/python3.11/dist-packages/arviz/rcparams.py:368: FutureWarning: stats.hdi_prob is deprecated since 0.18.0, use stats.ci_prob instead\n",
            "  warnings.warn(\n"
          ]
        },
        {
          "output_type": "execute_result",
          "data": {
            "text/plain": [
              "[<matplotlib.lines.Line2D at 0x7eecee39e890>]"
            ]
          },
          "metadata": {},
          "execution_count": 91
        },
        {
          "output_type": "display_data",
          "data": {
            "text/plain": [
              "<Figure size 1200x600 with 1 Axes>"
            ],
            "image/png": "[encoded data removed]"
          },
          "metadata": {}
        }
      ]
    },
    {
      "cell_type": "markdown",
      "source": [
        "This graph actually shows a very flat chart when comparing unemployment with homelessness, however, I will die on the hill of using unemployment regaurdless. Unemployment definitely causes homelessness, the issue is how unemployment is measured. For example, a homeless person not looking for a job is not considered unemployed by the government because they are not in the workforce. Even this version of unemployment is useful to have in the model because by prior knowledge is that everything else equal, a high number of people looking for jobs and unable to find them results in a high unemployment rate. I suspect the reason we don't see this trend here is that the data is from 4 years only and from 50 very different states that have very different \"natural\" unemployment levels related to the characteristics of the state economies. The 4 unemployment values for each state are likely very similar; if the data were taken over a longer period of time, I think there would be more of a trend."
      ],
      "metadata": {
        "id": "LWoY_qqMG6Q6"
      }
    },
    {
      "cell_type": "markdown",
      "source": [
        "That's my project! I learned that the different states are different."
      ],
      "metadata": {
        "id": "JKo5xGCPIQPs"
      }
    }
  ],
  "metadata": {
    "colab": {
      "provenance": [],
      "include_colab_link": true
    },
    "kernelspec": {
      "display_name": "Python 3",
      "name": "python3"
    },
    "language_info": {
      "name": "python"
    },
    "widgets": {
      "application/vnd.jupyter.widget-state+json": {
        "7d3b16a86ffa472db91f8cd8af3cb575": {
          "model_module": "@jupyter-widgets/output",
          "model_name": "OutputModel",
          "model_module_version": "1.0.0",
          "state": {
            "_dom_classes": [],
            "_model_module": "@jupyter-widgets/output",
            "_model_module_version": "1.0.0",
            "_model_name": "OutputModel",
            "_view_count": null,
            "_view_module": "@jupyter-widgets/output",
            "_view_module_version": "1.0.0",
            "_view_name": "OutputView",
            "layout": "IPY_MODEL_6e8ac943a0744e39aa30c52f1e39a69d",
            "msg_id": "",
            "outputs": [
              {
                "output_type": "display_data",
                "data": {
                  "text/plain": "Sampling chain 0, 0 divergences \u001b[32m━━━━━━━━━━━━━━━━━━━━━━━━━━━━━━━━━━━━━━━━\u001b[0m \u001b[35m100%\u001b[0m \u001b[36m0:00:00\u001b[0m / \u001b[33m0:00:06\u001b[0m\n",
                  "text/html": "<pre style=\"white-space:pre;overflow-x:auto;line-height:normal;font-family:Menlo,'DejaVu Sans Mono',consolas,'Courier New',monospace\">Sampling chain 0, 0 divergences <span style=\"color: #008000; text-decoration-color: #008000\">━━━━━━━━━━━━━━━━━━━━━━━━━━━━━━━━━━━━━━━━</span> <span style=\"color: #800080; text-decoration-color: #800080\">100%</span> <span style=\"color: #008080; text-decoration-color: #008080\">0:00:00</span> / <span style=\"color: #808000; text-decoration-color: #808000\">0:00:06</span>\n</pre>\n"
                },
                "metadata": {}
              }
            ]
          }
        },
        "6e8ac943a0744e39aa30c52f1e39a69d": {
          "model_module": "@jupyter-widgets/base",
          "model_name": "LayoutModel",
          "model_module_version": "1.2.0",
          "state": {
            "_model_module": "@jupyter-widgets/base",
            "_model_module_version": "1.2.0",
            "_model_name": "LayoutModel",
            "_view_count": null,
            "_view_module": "@jupyter-widgets/base",
            "_view_module_version": "1.2.0",
            "_view_name": "LayoutView",
            "align_content": null,
            "align_items": null,
            "align_self": null,
            "border": null,
            "bottom": null,
            "display": null,
            "flex": null,
            "flex_flow": null,
            "grid_area": null,
            "grid_auto_columns": null,
            "grid_auto_flow": null,
            "grid_auto_rows": null,
            "grid_column": null,
            "grid_gap": null,
            "grid_row": null,
            "grid_template_areas": null,
            "grid_template_columns": null,
            "grid_template_rows": null,
            "height": null,
            "justify_content": null,
            "justify_items": null,
            "left": null,
            "margin": null,
            "max_height": null,
            "max_width": null,
            "min_height": null,
            "min_width": null,
            "object_fit": null,
            "object_position": null,
            "order": null,
            "overflow": null,
            "overflow_x": null,
            "overflow_y": null,
            "padding": null,
            "right": null,
            "top": null,
            "visibility": null,
            "width": null
          }
        },
        "505261e377ac45ce80155e4248162767": {
          "model_module": "@jupyter-widgets/output",
          "model_name": "OutputModel",
          "model_module_version": "1.0.0",
          "state": {
            "_dom_classes": [],
            "_model_module": "@jupyter-widgets/output",
            "_model_module_version": "1.0.0",
            "_model_name": "OutputModel",
            "_view_count": null,
            "_view_module": "@jupyter-widgets/output",
            "_view_module_version": "1.0.0",
            "_view_name": "OutputView",
            "layout": "IPY_MODEL_4c5986420b0f41528070770c80684d51",
            "msg_id": "",
            "outputs": [
              {
                "output_type": "display_data",
                "data": {
                  "text/plain": "Sampling chain 1, 0 divergences \u001b[32m━━━━━━━━━━━━━━━━━━━━━━━━━━━━━━━━━━━━━━━━\u001b[0m \u001b[35m100%\u001b[0m \u001b[36m0:00:00\u001b[0m / \u001b[33m0:00:10\u001b[0m\n",
                  "text/html": "<pre style=\"white-space:pre;overflow-x:auto;line-height:normal;font-family:Menlo,'DejaVu Sans Mono',consolas,'Courier New',monospace\">Sampling chain 1, 0 divergences <span style=\"color: #008000; text-decoration-color: #008000\">━━━━━━━━━━━━━━━━━━━━━━━━━━━━━━━━━━━━━━━━</span> <span style=\"color: #800080; text-decoration-color: #800080\">100%</span> <span style=\"color: #008080; text-decoration-color: #008080\">0:00:00</span> / <span style=\"color: #808000; text-decoration-color: #808000\">0:00:10</span>\n</pre>\n"
                },
                "metadata": {}
              }
            ]
          }
        },
        "4c5986420b0f41528070770c80684d51": {
          "model_module": "@jupyter-widgets/base",
          "model_name": "LayoutModel",
          "model_module_version": "1.2.0",
          "state": {
            "_model_module": "@jupyter-widgets/base",
            "_model_module_version": "1.2.0",
            "_model_name": "LayoutModel",
            "_view_count": null,
            "_view_module": "@jupyter-widgets/base",
            "_view_module_version": "1.2.0",
            "_view_name": "LayoutView",
            "align_content": null,
            "align_items": null,
            "align_self": null,
            "border": null,
            "bottom": null,
            "display": null,
            "flex": null,
            "flex_flow": null,
            "grid_area": null,
            "grid_auto_columns": null,
            "grid_auto_flow": null,
            "grid_auto_rows": null,
            "grid_column": null,
            "grid_gap": null,
            "grid_row": null,
            "grid_template_areas": null,
            "grid_template_columns": null,
            "grid_template_rows": null,
            "height": null,
            "justify_content": null,
            "justify_items": null,
            "left": null,
            "margin": null,
            "max_height": null,
            "max_width": null,
            "min_height": null,
            "min_width": null,
            "object_fit": null,
            "object_position": null,
            "order": null,
            "overflow": null,
            "overflow_x": null,
            "overflow_y": null,
            "padding": null,
            "right": null,
            "top": null,
            "visibility": null,
            "width": null
          }
        },
        "3bec95ced1424cfd90eb6eb52e1c0156": {
          "model_module": "@jupyter-widgets/output",
          "model_name": "OutputModel",
          "model_module_version": "1.0.0",
          "state": {
            "_dom_classes": [],
            "_model_module": "@jupyter-widgets/output",
            "_model_module_version": "1.0.0",
            "_model_name": "OutputModel",
            "_view_count": null,
            "_view_module": "@jupyter-widgets/output",
            "_view_module_version": "1.0.0",
            "_view_name": "OutputView",
            "layout": "IPY_MODEL_831d1e50c9ef4323a08f246d70e04daa",
            "msg_id": "",
            "outputs": [
              {
                "output_type": "display_data",
                "data": {
                  "text/plain": "Sampling chain 0, 0 divergences \u001b[32m━━━━━━━━━━━━━━━━━━━━━━━━━━━━━━━━━━━━━━━━\u001b[0m \u001b[35m100%\u001b[0m \u001b[36m0:00:00\u001b[0m / \u001b[33m0:00:10\u001b[0m\n",
                  "text/html": "<pre style=\"white-space:pre;overflow-x:auto;line-height:normal;font-family:Menlo,'DejaVu Sans Mono',consolas,'Courier New',monospace\">Sampling chain 0, 0 divergences <span style=\"color: #008000; text-decoration-color: #008000\">━━━━━━━━━━━━━━━━━━━━━━━━━━━━━━━━━━━━━━━━</span> <span style=\"color: #800080; text-decoration-color: #800080\">100%</span> <span style=\"color: #008080; text-decoration-color: #008080\">0:00:00</span> / <span style=\"color: #808000; text-decoration-color: #808000\">0:00:10</span>\n</pre>\n"
                },
                "metadata": {}
              }
            ]
          }
        },
        "831d1e50c9ef4323a08f246d70e04daa": {
          "model_module": "@jupyter-widgets/base",
          "model_name": "LayoutModel",
          "model_module_version": "1.2.0",
          "state": {
            "_model_module": "@jupyter-widgets/base",
            "_model_module_version": "1.2.0",
            "_model_name": "LayoutModel",
            "_view_count": null,
            "_view_module": "@jupyter-widgets/base",
            "_view_module_version": "1.2.0",
            "_view_name": "LayoutView",
            "align_content": null,
            "align_items": null,
            "align_self": null,
            "border": null,
            "bottom": null,
            "display": null,
            "flex": null,
            "flex_flow": null,
            "grid_area": null,
            "grid_auto_columns": null,
            "grid_auto_flow": null,
            "grid_auto_rows": null,
            "grid_column": null,
            "grid_gap": null,
            "grid_row": null,
            "grid_template_areas": null,
            "grid_template_columns": null,
            "grid_template_rows": null,
            "height": null,
            "justify_content": null,
            "justify_items": null,
            "left": null,
            "margin": null,
            "max_height": null,
            "max_width": null,
            "min_height": null,
            "min_width": null,
            "object_fit": null,
            "object_position": null,
            "order": null,
            "overflow": null,
            "overflow_x": null,
            "overflow_y": null,
            "padding": null,
            "right": null,
            "top": null,
            "visibility": null,
            "width": null
          }
        },
        "2a182f932ae64ed7a92514497e2936d3": {
          "model_module": "@jupyter-widgets/output",
          "model_name": "OutputModel",
          "model_module_version": "1.0.0",
          "state": {
            "_dom_classes": [],
            "_model_module": "@jupyter-widgets/output",
            "_model_module_version": "1.0.0",
            "_model_name": "OutputModel",
            "_view_count": null,
            "_view_module": "@jupyter-widgets/output",
            "_view_module_version": "1.0.0",
            "_view_name": "OutputView",
            "layout": "IPY_MODEL_33461c68749243988240597eb7a34462",
            "msg_id": "",
            "outputs": [
              {
                "output_type": "display_data",
                "data": {
                  "text/plain": "Sampling chain 1, 0 divergences \u001b[32m━━━━━━━━━━━━━━━━━━━━━━━━━━━━━━━━━━━━━━━━\u001b[0m \u001b[35m100%\u001b[0m \u001b[36m0:00:00\u001b[0m / \u001b[33m0:00:09\u001b[0m\n",
                  "text/html": "<pre style=\"white-space:pre;overflow-x:auto;line-height:normal;font-family:Menlo,'DejaVu Sans Mono',consolas,'Courier New',monospace\">Sampling chain 1, 0 divergences <span style=\"color: #008000; text-decoration-color: #008000\">━━━━━━━━━━━━━━━━━━━━━━━━━━━━━━━━━━━━━━━━</span> <span style=\"color: #800080; text-decoration-color: #800080\">100%</span> <span style=\"color: #008080; text-decoration-color: #008080\">0:00:00</span> / <span style=\"color: #808000; text-decoration-color: #808000\">0:00:09</span>\n</pre>\n"
                },
                "metadata": {}
              }
            ]
          }
        },
        "33461c68749243988240597eb7a34462": {
          "model_module": "@jupyter-widgets/base",
          "model_name": "LayoutModel",
          "model_module_version": "1.2.0",
          "state": {
            "_model_module": "@jupyter-widgets/base",
            "_model_module_version": "1.2.0",
            "_model_name": "LayoutModel",
            "_view_count": null,
            "_view_module": "@jupyter-widgets/base",
            "_view_module_version": "1.2.0",
            "_view_name": "LayoutView",
            "align_content": null,
            "align_items": null,
            "align_self": null,
            "border": null,
            "bottom": null,
            "display": null,
            "flex": null,
            "flex_flow": null,
            "grid_area": null,
            "grid_auto_columns": null,
            "grid_auto_flow": null,
            "grid_auto_rows": null,
            "grid_column": null,
            "grid_gap": null,
            "grid_row": null,
            "grid_template_areas": null,
            "grid_template_columns": null,
            "grid_template_rows": null,
            "height": null,
            "justify_content": null,
            "justify_items": null,
            "left": null,
            "margin": null,
            "max_height": null,
            "max_width": null,
            "min_height": null,
            "min_width": null,
            "object_fit": null,
            "object_position": null,
            "order": null,
            "overflow": null,
            "overflow_x": null,
            "overflow_y": null,
            "padding": null,
            "right": null,
            "top": null,
            "visibility": null,
            "width": null
          }
        },
        "baafdaf6456b4ec9a8471e246fff188d": {
          "model_module": "@jupyter-widgets/output",
          "model_name": "OutputModel",
          "model_module_version": "1.0.0",
          "state": {
            "_dom_classes": [],
            "_model_module": "@jupyter-widgets/output",
            "_model_module_version": "1.0.0",
            "_model_name": "OutputModel",
            "_view_count": null,
            "_view_module": "@jupyter-widgets/output",
            "_view_module_version": "1.0.0",
            "_view_name": "OutputView",
            "layout": "IPY_MODEL_1749f8bfcb8c4befa295f51be67722a8",
            "msg_id": "",
            "outputs": [
              {
                "output_type": "display_data",
                "data": {
                  "text/plain": "Sampling chain 0, 0 divergences \u001b[32m━━━━━━━━━━━━━━━━━━━━━━━━━━━━━━━━━━━━━━━━\u001b[0m \u001b[35m100%\u001b[0m \u001b[36m0:00:00\u001b[0m / \u001b[33m0:00:03\u001b[0m\n",
                  "text/html": "<pre style=\"white-space:pre;overflow-x:auto;line-height:normal;font-family:Menlo,'DejaVu Sans Mono',consolas,'Courier New',monospace\">Sampling chain 0, 0 divergences <span style=\"color: #008000; text-decoration-color: #008000\">━━━━━━━━━━━━━━━━━━━━━━━━━━━━━━━━━━━━━━━━</span> <span style=\"color: #800080; text-decoration-color: #800080\">100%</span> <span style=\"color: #008080; text-decoration-color: #008080\">0:00:00</span> / <span style=\"color: #808000; text-decoration-color: #808000\">0:00:03</span>\n</pre>\n"
                },
                "metadata": {}
              }
            ]
          }
        },
        "1749f8bfcb8c4befa295f51be67722a8": {
          "model_module": "@jupyter-widgets/base",
          "model_name": "LayoutModel",
          "model_module_version": "1.2.0",
          "state": {
            "_model_module": "@jupyter-widgets/base",
            "_model_module_version": "1.2.0",
            "_model_name": "LayoutModel",
            "_view_count": null,
            "_view_module": "@jupyter-widgets/base",
            "_view_module_version": "1.2.0",
            "_view_name": "LayoutView",
            "align_content": null,
            "align_items": null,
            "align_self": null,
            "border": null,
            "bottom": null,
            "display": null,
            "flex": null,
            "flex_flow": null,
            "grid_area": null,
            "grid_auto_columns": null,
            "grid_auto_flow": null,
            "grid_auto_rows": null,
            "grid_column": null,
            "grid_gap": null,
            "grid_row": null,
            "grid_template_areas": null,
            "grid_template_columns": null,
            "grid_template_rows": null,
            "height": null,
            "justify_content": null,
            "justify_items": null,
            "left": null,
            "margin": null,
            "max_height": null,
            "max_width": null,
            "min_height": null,
            "min_width": null,
            "object_fit": null,
            "object_position": null,
            "order": null,
            "overflow": null,
            "overflow_x": null,
            "overflow_y": null,
            "padding": null,
            "right": null,
            "top": null,
            "visibility": null,
            "width": null
          }
        },
        "b476e0a20cbe4add877ba152a09d268d": {
          "model_module": "@jupyter-widgets/output",
          "model_name": "OutputModel",
          "model_module_version": "1.0.0",
          "state": {
            "_dom_classes": [],
            "_model_module": "@jupyter-widgets/output",
            "_model_module_version": "1.0.0",
            "_model_name": "OutputModel",
            "_view_count": null,
            "_view_module": "@jupyter-widgets/output",
            "_view_module_version": "1.0.0",
            "_view_name": "OutputView",
            "layout": "IPY_MODEL_3b3d5bfdcccd4e48bee6cc4029e0900b",
            "msg_id": "",
            "outputs": [
              {
                "output_type": "display_data",
                "data": {
                  "text/plain": "Sampling chain 1, 0 divergences \u001b[32m━━━━━━━━━━━━━━━━━━━━━━━━━━━━━━━━━━━━━━━━\u001b[0m \u001b[35m100%\u001b[0m \u001b[36m0:00:00\u001b[0m / \u001b[33m0:00:03\u001b[0m\n",
                  "text/html": "<pre style=\"white-space:pre;overflow-x:auto;line-height:normal;font-family:Menlo,'DejaVu Sans Mono',consolas,'Courier New',monospace\">Sampling chain 1, 0 divergences <span style=\"color: #008000; text-decoration-color: #008000\">━━━━━━━━━━━━━━━━━━━━━━━━━━━━━━━━━━━━━━━━</span> <span style=\"color: #800080; text-decoration-color: #800080\">100%</span> <span style=\"color: #008080; text-decoration-color: #008080\">0:00:00</span> / <span style=\"color: #808000; text-decoration-color: #808000\">0:00:03</span>\n</pre>\n"
                },
                "metadata": {}
              }
            ]
          }
        },
        "3b3d5bfdcccd4e48bee6cc4029e0900b": {
          "model_module": "@jupyter-widgets/base",
          "model_name": "LayoutModel",
          "model_module_version": "1.2.0",
          "state": {
            "_model_module": "@jupyter-widgets/base",
            "_model_module_version": "1.2.0",
            "_model_name": "LayoutModel",
            "_view_count": null,
            "_view_module": "@jupyter-widgets/base",
            "_view_module_version": "1.2.0",
            "_view_name": "LayoutView",
            "align_content": null,
            "align_items": null,
            "align_self": null,
            "border": null,
            "bottom": null,
            "display": null,
            "flex": null,
            "flex_flow": null,
            "grid_area": null,
            "grid_auto_columns": null,
            "grid_auto_flow": null,
            "grid_auto_rows": null,
            "grid_column": null,
            "grid_gap": null,
            "grid_row": null,
            "grid_template_areas": null,
            "grid_template_columns": null,
            "grid_template_rows": null,
            "height": null,
            "justify_content": null,
            "justify_items": null,
            "left": null,
            "margin": null,
            "max_height": null,
            "max_width": null,
            "min_height": null,
            "min_width": null,
            "object_fit": null,
            "object_position": null,
            "order": null,
            "overflow": null,
            "overflow_x": null,
            "overflow_y": null,
            "padding": null,
            "right": null,
            "top": null,
            "visibility": null,
            "width": null
          }
        },
        "1f2048007c1a4c5c94b827dbd9801950": {
          "model_module": "@jupyter-widgets/output",
          "model_name": "OutputModel",
          "model_module_version": "1.0.0",
          "state": {
            "_dom_classes": [],
            "_model_module": "@jupyter-widgets/output",
            "_model_module_version": "1.0.0",
            "_model_name": "OutputModel",
            "_view_count": null,
            "_view_module": "@jupyter-widgets/output",
            "_view_module_version": "1.0.0",
            "_view_name": "OutputView",
            "layout": "IPY_MODEL_7a5ea94e371f47069c279778cac17895",
            "msg_id": "",
            "outputs": [
              {
                "output_type": "display_data",
                "data": {
                  "text/plain": "Sampling chain 0, 0 divergences \u001b[32m━━━━━━━━━━━━━━━━━━━━━━━━━━━━━━━━━━━━━━━━\u001b[0m \u001b[35m100%\u001b[0m \u001b[36m0:00:00\u001b[0m / \u001b[33m0:00:18\u001b[0m\n",
                  "text/html": "<pre style=\"white-space:pre;overflow-x:auto;line-height:normal;font-family:Menlo,'DejaVu Sans Mono',consolas,'Courier New',monospace\">Sampling chain 0, 0 divergences <span style=\"color: #008000; text-decoration-color: #008000\">━━━━━━━━━━━━━━━━━━━━━━━━━━━━━━━━━━━━━━━━</span> <span style=\"color: #800080; text-decoration-color: #800080\">100%</span> <span style=\"color: #008080; text-decoration-color: #008080\">0:00:00</span> / <span style=\"color: #808000; text-decoration-color: #808000\">0:00:18</span>\n</pre>\n"
                },
                "metadata": {}
              }
            ]
          }
        },
        "7a5ea94e371f47069c279778cac17895": {
          "model_module": "@jupyter-widgets/base",
          "model_name": "LayoutModel",
          "model_module_version": "1.2.0",
          "state": {
            "_model_module": "@jupyter-widgets/base",
            "_model_module_version": "1.2.0",
            "_model_name": "LayoutModel",
            "_view_count": null,
            "_view_module": "@jupyter-widgets/base",
            "_view_module_version": "1.2.0",
            "_view_name": "LayoutView",
            "align_content": null,
            "align_items": null,
            "align_self": null,
            "border": null,
            "bottom": null,
            "display": null,
            "flex": null,
            "flex_flow": null,
            "grid_area": null,
            "grid_auto_columns": null,
            "grid_auto_flow": null,
            "grid_auto_rows": null,
            "grid_column": null,
            "grid_gap": null,
            "grid_row": null,
            "grid_template_areas": null,
            "grid_template_columns": null,
            "grid_template_rows": null,
            "height": null,
            "justify_content": null,
            "justify_items": null,
            "left": null,
            "margin": null,
            "max_height": null,
            "max_width": null,
            "min_height": null,
            "min_width": null,
            "object_fit": null,
            "object_position": null,
            "order": null,
            "overflow": null,
            "overflow_x": null,
            "overflow_y": null,
            "padding": null,
            "right": null,
            "top": null,
            "visibility": null,
            "width": null
          }
        },
        "cb9c8ee70e4f4336b182aabd9a9ef5e8": {
          "model_module": "@jupyter-widgets/output",
          "model_name": "OutputModel",
          "model_module_version": "1.0.0",
          "state": {
            "_dom_classes": [],
            "_model_module": "@jupyter-widgets/output",
            "_model_module_version": "1.0.0",
            "_model_name": "OutputModel",
            "_view_count": null,
            "_view_module": "@jupyter-widgets/output",
            "_view_module_version": "1.0.0",
            "_view_name": "OutputView",
            "layout": "IPY_MODEL_383f7806d5484d168a08bd3d905a748c",
            "msg_id": "",
            "outputs": [
              {
                "output_type": "display_data",
                "data": {
                  "text/plain": "Sampling chain 1, 0 divergences \u001b[32m━━━━━━━━━━━━━━━━━━━━━━━━━━━━━━━━━━━━━━━━\u001b[0m \u001b[35m100%\u001b[0m \u001b[36m0:00:00\u001b[0m / \u001b[33m0:00:19\u001b[0m\n",
                  "text/html": "<pre style=\"white-space:pre;overflow-x:auto;line-height:normal;font-family:Menlo,'DejaVu Sans Mono',consolas,'Courier New',monospace\">Sampling chain 1, 0 divergences <span style=\"color: #008000; text-decoration-color: #008000\">━━━━━━━━━━━━━━━━━━━━━━━━━━━━━━━━━━━━━━━━</span> <span style=\"color: #800080; text-decoration-color: #800080\">100%</span> <span style=\"color: #008080; text-decoration-color: #008080\">0:00:00</span> / <span style=\"color: #808000; text-decoration-color: #808000\">0:00:19</span>\n</pre>\n"
                },
                "metadata": {}
              }
            ]
          }
        },
        "383f7806d5484d168a08bd3d905a748c": {
          "model_module": "@jupyter-widgets/base",
          "model_name": "LayoutModel",
          "model_module_version": "1.2.0",
          "state": {
            "_model_module": "@jupyter-widgets/base",
            "_model_module_version": "1.2.0",
            "_model_name": "LayoutModel",
            "_view_count": null,
            "_view_module": "@jupyter-widgets/base",
            "_view_module_version": "1.2.0",
            "_view_name": "LayoutView",
            "align_content": null,
            "align_items": null,
            "align_self": null,
            "border": null,
            "bottom": null,
            "display": null,
            "flex": null,
            "flex_flow": null,
            "grid_area": null,
            "grid_auto_columns": null,
            "grid_auto_flow": null,
            "grid_auto_rows": null,
            "grid_column": null,
            "grid_gap": null,
            "grid_row": null,
            "grid_template_areas": null,
            "grid_template_columns": null,
            "grid_template_rows": null,
            "height": null,
            "justify_content": null,
            "justify_items": null,
            "left": null,
            "margin": null,
            "max_height": null,
            "max_width": null,
            "min_height": null,
            "min_width": null,
            "object_fit": null,
            "object_position": null,
            "order": null,
            "overflow": null,
            "overflow_x": null,
            "overflow_y": null,
            "padding": null,
            "right": null,
            "top": null,
            "visibility": null,
            "width": null
          }
        },
        "bd8d74980036407da5d8e0a93f0ef6b6": {
          "model_module": "@jupyter-widgets/output",
          "model_name": "OutputModel",
          "model_module_version": "1.0.0",
          "state": {
            "_dom_classes": [],
            "_model_module": "@jupyter-widgets/output",
            "_model_module_version": "1.0.0",
            "_model_name": "OutputModel",
            "_view_count": null,
            "_view_module": "@jupyter-widgets/output",
            "_view_module_version": "1.0.0",
            "_view_name": "OutputView",
            "layout": "IPY_MODEL_e5f34b75dacf41fd8fb7ce774b909b5e",
            "msg_id": "",
            "outputs": [
              {
                "output_type": "display_data",
                "data": {
                  "text/plain": "Sampling chain 0, 0 divergences \u001b[32m━━━━━━━━━━━━━━━━━━━━━━━━━━━━━━━━━━━━━━━━\u001b[0m \u001b[35m100%\u001b[0m \u001b[36m0:00:00\u001b[0m / \u001b[33m0:00:09\u001b[0m\n",
                  "text/html": "<pre style=\"white-space:pre;overflow-x:auto;line-height:normal;font-family:Menlo,'DejaVu Sans Mono',consolas,'Courier New',monospace\">Sampling chain 0, 0 divergences <span style=\"color: #008000; text-decoration-color: #008000\">━━━━━━━━━━━━━━━━━━━━━━━━━━━━━━━━━━━━━━━━</span> <span style=\"color: #800080; text-decoration-color: #800080\">100%</span> <span style=\"color: #008080; text-decoration-color: #008080\">0:00:00</span> / <span style=\"color: #808000; text-decoration-color: #808000\">0:00:09</span>\n</pre>\n"
                },
                "metadata": {}
              }
            ]
          }
        },
        "e5f34b75dacf41fd8fb7ce774b909b5e": {
          "model_module": "@jupyter-widgets/base",
          "model_name": "LayoutModel",
          "model_module_version": "1.2.0",
          "state": {
            "_model_module": "@jupyter-widgets/base",
            "_model_module_version": "1.2.0",
            "_model_name": "LayoutModel",
            "_view_count": null,
            "_view_module": "@jupyter-widgets/base",
            "_view_module_version": "1.2.0",
            "_view_name": "LayoutView",
            "align_content": null,
            "align_items": null,
            "align_self": null,
            "border": null,
            "bottom": null,
            "display": null,
            "flex": null,
            "flex_flow": null,
            "grid_area": null,
            "grid_auto_columns": null,
            "grid_auto_flow": null,
            "grid_auto_rows": null,
            "grid_column": null,
            "grid_gap": null,
            "grid_row": null,
            "grid_template_areas": null,
            "grid_template_columns": null,
            "grid_template_rows": null,
            "height": null,
            "justify_content": null,
            "justify_items": null,
            "left": null,
            "margin": null,
            "max_height": null,
            "max_width": null,
            "min_height": null,
            "min_width": null,
            "object_fit": null,
            "object_position": null,
            "order": null,
            "overflow": null,
            "overflow_x": null,
            "overflow_y": null,
            "padding": null,
            "right": null,
            "top": null,
            "visibility": null,
            "width": null
          }
        },
        "70a391f458494af396604a4c85a0760b": {
          "model_module": "@jupyter-widgets/output",
          "model_name": "OutputModel",
          "model_module_version": "1.0.0",
          "state": {
            "_dom_classes": [],
            "_model_module": "@jupyter-widgets/output",
            "_model_module_version": "1.0.0",
            "_model_name": "OutputModel",
            "_view_count": null,
            "_view_module": "@jupyter-widgets/output",
            "_view_module_version": "1.0.0",
            "_view_name": "OutputView",
            "layout": "IPY_MODEL_0c811f193c6447eab2cfc14bc78370d3",
            "msg_id": "",
            "outputs": [
              {
                "output_type": "display_data",
                "data": {
                  "text/plain": "Sampling chain 1, 0 divergences \u001b[32m━━━━━━━━━━━━━━━━━━━━━━━━━━━━━━━━━━━━━━━━\u001b[0m \u001b[35m100%\u001b[0m \u001b[36m0:00:00\u001b[0m / \u001b[33m0:00:05\u001b[0m\n",
                  "text/html": "<pre style=\"white-space:pre;overflow-x:auto;line-height:normal;font-family:Menlo,'DejaVu Sans Mono',consolas,'Courier New',monospace\">Sampling chain 1, 0 divergences <span style=\"color: #008000; text-decoration-color: #008000\">━━━━━━━━━━━━━━━━━━━━━━━━━━━━━━━━━━━━━━━━</span> <span style=\"color: #800080; text-decoration-color: #800080\">100%</span> <span style=\"color: #008080; text-decoration-color: #008080\">0:00:00</span> / <span style=\"color: #808000; text-decoration-color: #808000\">0:00:05</span>\n</pre>\n"
                },
                "metadata": {}
              }
            ]
          }
        },
        "0c811f193c6447eab2cfc14bc78370d3": {
          "model_module": "@jupyter-widgets/base",
          "model_name": "LayoutModel",
          "model_module_version": "1.2.0",
          "state": {
            "_model_module": "@jupyter-widgets/base",
            "_model_module_version": "1.2.0",
            "_model_name": "LayoutModel",
            "_view_count": null,
            "_view_module": "@jupyter-widgets/base",
            "_view_module_version": "1.2.0",
            "_view_name": "LayoutView",
            "align_content": null,
            "align_items": null,
            "align_self": null,
            "border": null,
            "bottom": null,
            "display": null,
            "flex": null,
            "flex_flow": null,
            "grid_area": null,
            "grid_auto_columns": null,
            "grid_auto_flow": null,
            "grid_auto_rows": null,
            "grid_column": null,
            "grid_gap": null,
            "grid_row": null,
            "grid_template_areas": null,
            "grid_template_columns": null,
            "grid_template_rows": null,
            "height": null,
            "justify_content": null,
            "justify_items": null,
            "left": null,
            "margin": null,
            "max_height": null,
            "max_width": null,
            "min_height": null,
            "min_width": null,
            "object_fit": null,
            "object_position": null,
            "order": null,
            "overflow": null,
            "overflow_x": null,
            "overflow_y": null,
            "padding": null,
            "right": null,
            "top": null,
            "visibility": null,
            "width": null
          }
        },
        "15af819e4e3f4f1b94b9c354436a0ddd": {
          "model_module": "@jupyter-widgets/output",
          "model_name": "OutputModel",
          "model_module_version": "1.0.0",
          "state": {
            "_dom_classes": [],
            "_model_module": "@jupyter-widgets/output",
            "_model_module_version": "1.0.0",
            "_model_name": "OutputModel",
            "_view_count": null,
            "_view_module": "@jupyter-widgets/output",
            "_view_module_version": "1.0.0",
            "_view_name": "OutputView",
            "layout": "IPY_MODEL_ee72dacda47848cfb2e5d2b38d86ca80",
            "msg_id": "",
            "outputs": [
              {
                "output_type": "display_data",
                "data": {
                  "text/plain": "Sampling chain 0, 0 divergences \u001b[32m━━━━━━━━━━━━━━━━━━━━━━━━━━━━━━━━━━━━━━━━\u001b[0m \u001b[35m100%\u001b[0m \u001b[36m0:00:00\u001b[0m / \u001b[33m0:00:06\u001b[0m\n",
                  "text/html": "<pre style=\"white-space:pre;overflow-x:auto;line-height:normal;font-family:Menlo,'DejaVu Sans Mono',consolas,'Courier New',monospace\">Sampling chain 0, 0 divergences <span style=\"color: #008000; text-decoration-color: #008000\">━━━━━━━━━━━━━━━━━━━━━━━━━━━━━━━━━━━━━━━━</span> <span style=\"color: #800080; text-decoration-color: #800080\">100%</span> <span style=\"color: #008080; text-decoration-color: #008080\">0:00:00</span> / <span style=\"color: #808000; text-decoration-color: #808000\">0:00:06</span>\n</pre>\n"
                },
                "metadata": {}
              }
            ]
          }
        },
        "ee72dacda47848cfb2e5d2b38d86ca80": {
          "model_module": "@jupyter-widgets/base",
          "model_name": "LayoutModel",
          "model_module_version": "1.2.0",
          "state": {
            "_model_module": "@jupyter-widgets/base",
            "_model_module_version": "1.2.0",
            "_model_name": "LayoutModel",
            "_view_count": null,
            "_view_module": "@jupyter-widgets/base",
            "_view_module_version": "1.2.0",
            "_view_name": "LayoutView",
            "align_content": null,
            "align_items": null,
            "align_self": null,
            "border": null,
            "bottom": null,
            "display": null,
            "flex": null,
            "flex_flow": null,
            "grid_area": null,
            "grid_auto_columns": null,
            "grid_auto_flow": null,
            "grid_auto_rows": null,
            "grid_column": null,
            "grid_gap": null,
            "grid_row": null,
            "grid_template_areas": null,
            "grid_template_columns": null,
            "grid_template_rows": null,
            "height": null,
            "justify_content": null,
            "justify_items": null,
            "left": null,
            "margin": null,
            "max_height": null,
            "max_width": null,
            "min_height": null,
            "min_width": null,
            "object_fit": null,
            "object_position": null,
            "order": null,
            "overflow": null,
            "overflow_x": null,
            "overflow_y": null,
            "padding": null,
            "right": null,
            "top": null,
            "visibility": null,
            "width": null
          }
        },
        "071f05d8125541ac9766e47364a039b3": {
          "model_module": "@jupyter-widgets/output",
          "model_name": "OutputModel",
          "model_module_version": "1.0.0",
          "state": {
            "_dom_classes": [],
            "_model_module": "@jupyter-widgets/output",
            "_model_module_version": "1.0.0",
            "_model_name": "OutputModel",
            "_view_count": null,
            "_view_module": "@jupyter-widgets/output",
            "_view_module_version": "1.0.0",
            "_view_name": "OutputView",
            "layout": "IPY_MODEL_b49ff987d5964e92afe96ece1da6f02e",
            "msg_id": "",
            "outputs": [
              {
                "output_type": "display_data",
                "data": {
                  "text/plain": "Sampling chain 1, 0 divergences \u001b[32m━━━━━━━━━━━━━━━━━━━━━━━━━━━━━━━━━━━━━━━━\u001b[0m \u001b[35m100%\u001b[0m \u001b[36m0:00:00\u001b[0m / \u001b[33m0:00:07\u001b[0m\n",
                  "text/html": "<pre style=\"white-space:pre;overflow-x:auto;line-height:normal;font-family:Menlo,'DejaVu Sans Mono',consolas,'Courier New',monospace\">Sampling chain 1, 0 divergences <span style=\"color: #008000; text-decoration-color: #008000\">━━━━━━━━━━━━━━━━━━━━━━━━━━━━━━━━━━━━━━━━</span> <span style=\"color: #800080; text-decoration-color: #800080\">100%</span> <span style=\"color: #008080; text-decoration-color: #008080\">0:00:00</span> / <span style=\"color: #808000; text-decoration-color: #808000\">0:00:07</span>\n</pre>\n"
                },
                "metadata": {}
              }
            ]
          }
        },
        "b49ff987d5964e92afe96ece1da6f02e": {
          "model_module": "@jupyter-widgets/base",
          "model_name": "LayoutModel",
          "model_module_version": "1.2.0",
          "state": {
            "_model_module": "@jupyter-widgets/base",
            "_model_module_version": "1.2.0",
            "_model_name": "LayoutModel",
            "_view_count": null,
            "_view_module": "@jupyter-widgets/base",
            "_view_module_version": "1.2.0",
            "_view_name": "LayoutView",
            "align_content": null,
            "align_items": null,
            "align_self": null,
            "border": null,
            "bottom": null,
            "display": null,
            "flex": null,
            "flex_flow": null,
            "grid_area": null,
            "grid_auto_columns": null,
            "grid_auto_flow": null,
            "grid_auto_rows": null,
            "grid_column": null,
            "grid_gap": null,
            "grid_row": null,
            "grid_template_areas": null,
            "grid_template_columns": null,
            "grid_template_rows": null,
            "height": null,
            "justify_content": null,
            "justify_items": null,
            "left": null,
            "margin": null,
            "max_height": null,
            "max_width": null,
            "min_height": null,
            "min_width": null,
            "object_fit": null,
            "object_position": null,
            "order": null,
            "overflow": null,
            "overflow_x": null,
            "overflow_y": null,
            "padding": null,
            "right": null,
            "top": null,
            "visibility": null,
            "width": null
          }
        }
      }
    }
  },
  "nbformat": 4,
  "nbformat_minor": 0
}